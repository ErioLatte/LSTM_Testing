{
 "cells": [
  {
   "cell_type": "code",
   "execution_count": 60,
   "metadata": {},
   "outputs": [],
   "source": [
    "import pandas as pd\n",
    "import re\n",
    "from cleantext import clean\n",
    "import snscrape.modules.twitter as sntwitter\n",
    "from nltk import tokenize\n",
    "from nltk.corpus import stopowords"
   ]
  },
  {
   "cell_type": "code",
   "execution_count": 61,
   "metadata": {},
   "outputs": [],
   "source": [
    "scraper = sntwitter.TwitterSearchScraper(\"@juanwmv\")\n",
    "tweet = list()"
   ]
  },
  {
   "cell_type": "code",
   "execution_count": 62,
   "metadata": {},
   "outputs": [
    {
     "name": "stderr",
     "output_type": "stream",
     "text": [
      "C:\\Users\\HP\\AppData\\Local\\Temp\\ipykernel_32592\\2979521269.py:3: DeprecatedFeatureWarning: content is deprecated, use rawContent instead\n",
      "  tweet.append(data.content)\n"
     ]
    }
   ],
   "source": [
    "# this will take the tweet\n",
    "for i, data in enumerate(scraper.get_items()):\n",
    "    tweet.append(data.content)\n",
    "    if i > 50:\n",
    "        break"
   ]
  },
  {
   "cell_type": "code",
   "execution_count": 63,
   "metadata": {},
   "outputs": [
    {
     "name": "stdout",
     "output_type": "stream",
     "text": [
      "cpek tired brnout ngntuk mhr https://t.co/62ipmb8fqq\n",
      "@juanwmv you horny bruh\n",
      "db normalization got me pukin and shi https://t.co/zvb7vttdfj\n",
      "amandazahra ong\n",
      "wordle 646 3/6\n",
      "not the af highs\n",
      "all time topster https://t.co/zlkdhvacuo\n",
      "ost when marnie was there bgus bgt ygy\n",
      "binus liburphobic\n",
      "binusfess > sunibcurhat fr\n",
      "wordle 644 3/6\n",
      "corecore is so fucking stupid and cringe\n",
      "lmaooo\n",
      "https://t.co/xgndymjeta\n",
      "this shit funny af\n",
      "https://t.co/5uk1kk6seh\n",
      "found this in a mall's toilet. wtf was this dude trynna do https://t.co/s06ialspi3\n",
      "bacot\n",
      "'before your eyes' is such a beautiful game bro, fuckign cried so hard mann wtff\n",
      "fuck.. rip\n",
      "had a back to back sleep paralysis this morning\n",
      "@juanwmv huh???? https://t.co/xzavg5iafd\n",
      "@bocahtaikk https://t.co/v35c1a6hxn\n",
      "@juanwmv goofy ah pig https://t.co/xwwk77eo9q\n",
      "hadoop ecosystem got some of the most goofy aah logos out there bro https://t.co/rddymfiteq\n",
      "feliz jueves\n",
      "@erioyoshino https://t.co/o5x3qbmjic\n",
      "what happened to joji's chloe burbank project bro\n",
      "wordle 632 3/6\n",
      "https://t.co/uikl2e4fpi\n",
      "naik gojek ke st. hmpir ditabrak orang tolol https://t.co/mbuvell1xr\n",
      "samurai champloo & nujabes is peak\n",
      "fuck elon fr\n",
      "hdh https://t.co/pkxhojga5n\n",
      "this sucks man. literally reminds me of my own mortality. our life can get flipped upside down that easily\n",
      "would\n",
      "discovered some good shit!! https://t.co/qrnyoagosb\n",
      "mw binge ghibli\n",
      "@stoookeley diusahakn\n",
      "hdhhhh di kos hujan mrembes, ac bocor. brp kli gw harus pel woii\n",
      "\n",
      ":v\n",
      "??????\n",
      "goofy aah thank you slide https://t.co/z0mjtram6z\n",
      "@erioyoshino https://t.co/mgfbxwoged\n",
      "quote this with 10 artists you consider your favourites, no particular order:\n",
      "kendrick lamar\n",
      "radiohead\n",
      "jpegmafia\n",
      "the strokes\n",
      "lamp\n",
      "sweet trip\n",
      "thundercat\n",
      "crystal castles\n",
      "machine girl\n",
      "@juanwmv izin curi\n",
      "masih blom mau kuliah https://t.co/yh1ssj8dpp\n",
      "makin a chess game, creating the board and showing the pieces based on the fen notation strings done. just need to implement the actual game mechanics now https://t.co/fk6isnwhwx\n",
      "\"that was a great game of chess\" https://t.co/rhoolvxy4c\n",
      "mf xqc finished hogwarts legacy in one sitting. bro is playing hurry potter\n",
      "\"out of bounds thinking\" https://t.co/wdzzwcs8h4\n"
     ]
    }
   ],
   "source": [
    "# pls add emoticon remover\n",
    "clean_tweet = list()\n",
    "\n",
    "for text in tweet:\n",
    "    clean_tweet.append(clean(text, no_emoji=True))\n",
    "        \n",
    "for text in clean_tweet:\n",
    "    print(text)\n"
   ]
  },
  {
   "cell_type": "code",
   "execution_count": 69,
   "metadata": {},
   "outputs": [],
   "source": [
    "# remove data with link and null data\n",
    "\n",
    "for data in clean_tweet:\n",
    "    urls = \n",
    "    if len(urls) > 0 or len(data) == 0:\n",
    "        clean_tweet.remove(data)    "
   ]
  },
  {
   "cell_type": "code",
   "execution_count": 68,
   "metadata": {},
   "outputs": [
    {
     "name": "stdout",
     "output_type": "stream",
     "text": [
      "halo\n",
      "halo\n",
      "halo\n",
      "halo\n",
      "halo\n",
      "halo\n",
      "halo\n",
      "halo\n",
      "halo\n",
      "halo\n",
      "halo\n",
      "halo\n",
      "halo\n",
      "halo\n",
      "halo\n",
      "halo\n",
      "halo\n",
      "halo\n",
      "halo\n",
      "halo\n",
      "halo\n",
      "halo\n",
      "halo\n",
      "halo\n",
      "halo\n",
      "halo\n",
      "halo\n",
      "halo\n",
      "halo\n",
      "halo\n",
      "halo\n"
     ]
    }
   ],
   "source": [
    "# lowercase all\n",
    "final_tweet = [text.lower() for text in clean_tweet]\n",
    "    "
   ]
  },
  {
   "cell_type": "code",
   "execution_count": 56,
   "metadata": {},
   "outputs": [],
   "source": [
    "# this will fram|e the data and save it in excel\n",
    "tweet = pd.DataFrame(clean_tweet, columns=[\"content\"])\n",
    "tweet.to_excel(r\"C:/Users/HP/Downloads/tweetJuan.xlsx\", index = False)"
   ]
  },
  {
   "cell_type": "code",
   "execution_count": null,
   "metadata": {},
   "outputs": [],
   "source": []
  }
 ],
 "metadata": {
  "kernelspec": {
   "display_name": "Python 3",
   "language": "python",
   "name": "python3"
  },
  "language_info": {
   "codemirror_mode": {
    "name": "ipython",
    "version": 3
   },
   "file_extension": ".py",
   "mimetype": "text/x-python",
   "name": "python",
   "nbconvert_exporter": "python",
   "pygments_lexer": "ipython3",
   "version": "3.10.1"
  },
  "orig_nbformat": 4
 },
 "nbformat": 4,
 "nbformat_minor": 2
}

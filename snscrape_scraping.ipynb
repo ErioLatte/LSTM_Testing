{
 "cells": [
  {
   "cell_type": "code",
   "execution_count": 6,
   "metadata": {},
   "outputs": [
    {
     "name": "stderr",
     "output_type": "stream",
     "text": [
      "Since the GPL-licensed package `unidecode` is not installed, using Python's `unicodedata` package which yields worse results.\n"
     ]
    }
   ],
   "source": [
    "import pandas as pd\n",
    "from cleantext import clean\n",
    "import snscrape.modules.twitter as sntwitter"
   ]
  },
  {
   "cell_type": "code",
   "execution_count": 2,
   "metadata": {},
   "outputs": [],
   "source": [
    "scraper = sntwitter.TwitterSearchScraper(\"@juanwmv\")\n",
    "tweet = []"
   ]
  },
  {
   "cell_type": "code",
   "execution_count": 3,
   "metadata": {},
   "outputs": [
    {
     "name": "stdout",
     "output_type": "stream",
     "text": [
      "<class 'snscrape.modules.twitter.Tweet'>\n",
      "<class 'snscrape.modules.twitter.Tweet'>\n",
      "<class 'snscrape.modules.twitter.Tweet'>\n",
      "<class 'snscrape.modules.twitter.Tweet'>\n",
      "<class 'snscrape.modules.twitter.Tweet'>\n",
      "<class 'snscrape.modules.twitter.Tweet'>\n",
      "<class 'snscrape.modules.twitter.Tweet'>\n",
      "<class 'snscrape.modules.twitter.Tweet'>\n",
      "<class 'snscrape.modules.twitter.Tweet'>\n",
      "<class 'snscrape.modules.twitter.Tweet'>\n",
      "<class 'snscrape.modules.twitter.Tweet'>\n",
      "<class 'snscrape.modules.twitter.Tweet'>\n",
      "<class 'snscrape.modules.twitter.Tweet'>\n",
      "<class 'snscrape.modules.twitter.Tweet'>\n",
      "<class 'snscrape.modules.twitter.Tweet'>\n",
      "<class 'snscrape.modules.twitter.Tweet'>\n",
      "<class 'snscrape.modules.twitter.Tweet'>\n"
     ]
    },
    {
     "name": "stderr",
     "output_type": "stream",
     "text": [
      "C:\\Users\\HP\\AppData\\Local\\Temp\\ipykernel_30824\\989754019.py:3: DeprecatedFeatureWarning: content is deprecated, use rawContent instead\n",
      "  tweet.append(data.content)\n"
     ]
    }
   ],
   "source": [
    "# this will take the tweet\n",
    "for i, data in enumerate(scraper.get_items()):\n",
    "    tweet.append(data.content)\n",
    "    print(type(data))\n",
    "    if i > 15:\n",
    "        break"
   ]
  },
  {
   "cell_type": "code",
   "execution_count": 8,
   "metadata": {},
   "outputs": [
    {
     "name": "stdout",
     "output_type": "stream",
     "text": [
      "wordle 646 3/6\n",
      "not the af highs\n",
      "all time topster https://t.co/zlkdhvacuo\n",
      "ost when marnie was there bgus bgt ygy\n",
      "binus liburphobic\n",
      "binusfess > sunibcurhat fr\n",
      "wordle 644 3/6\n",
      "corecore is so fucking stupid and cringe\n",
      "lmaooo\n",
      "https://t.co/xgndymjeta\n",
      "this shit funny af\n",
      "https://t.co/5uk1kk6seh\n",
      "found this in a mall's toilet. wtf was this dude trynna do https://t.co/s06ialspi3\n",
      "bacot\n",
      "'before your eyes' is such a beautiful game bro, fuckign cried so hard mann wtff\n",
      "fuck.. rip\n",
      "had a back to back sleep paralysis this morning\n"
     ]
    }
   ],
   "source": [
    "# pls add emoticon remover\n",
    "clean_tweet = []\n",
    "for text in tweet:\n",
    "    clean_tweet.append(clean(text, no_emoji=True))\n",
    "        \n",
    "for text in clean_tweet:\n",
    "    print(text)"
   ]
  },
  {
   "cell_type": "code",
   "execution_count": 10,
   "metadata": {},
   "outputs": [],
   "source": [
    "# this will fram|e the data and save it in excel\n",
    "tweet = pd.DataFrame(clean_tweet, columns=[\"content\"])\n",
    "tweet.to_excel(r\"C:/Users/HP/Downloads/tweetJuan.xlsx\", index = False)"
   ]
  },
  {
   "cell_type": "code",
   "execution_count": null,
   "metadata": {},
   "outputs": [],
   "source": []
  }
 ],
 "metadata": {
  "kernelspec": {
   "display_name": "Python 3",
   "language": "python",
   "name": "python3"
  },
  "language_info": {
   "codemirror_mode": {
    "name": "ipython",
    "version": 3
   },
   "file_extension": ".py",
   "mimetype": "text/x-python",
   "name": "python",
   "nbconvert_exporter": "python",
   "pygments_lexer": "ipython3",
   "version": "3.10.1"
  },
  "orig_nbformat": 4
 },
 "nbformat": 4,
 "nbformat_minor": 2
}

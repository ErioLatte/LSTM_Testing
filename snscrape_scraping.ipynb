{
 "cells": [
  {
   "cell_type": "code",
   "execution_count": 1,
   "metadata": {},
   "outputs": [],
   "source": [
    "import pandas as pd\n",
    "import snscrape.modules.twitter as sntwitter"
   ]
  },
  {
   "cell_type": "code",
   "execution_count": 2,
   "metadata": {},
   "outputs": [],
   "source": [
    "scraper = sntwitter.TwitterSearchScraper(\"@juanwmv\")\n",
    "tweet = []"
   ]
  },
  {
   "cell_type": "code",
   "execution_count": 3,
   "metadata": {},
   "outputs": [
    {
     "name": "stdout",
     "output_type": "stream",
     "text": [
      "<class 'snscrape.modules.twitter.Tweet'>\n",
      "<class 'snscrape.modules.twitter.Tweet'>\n",
      "<class 'snscrape.modules.twitter.Tweet'>\n",
      "<class 'snscrape.modules.twitter.Tweet'>\n",
      "<class 'snscrape.modules.twitter.Tweet'>\n",
      "<class 'snscrape.modules.twitter.Tweet'>\n",
      "<class 'snscrape.modules.twitter.Tweet'>\n",
      "<class 'snscrape.modules.twitter.Tweet'>\n",
      "<class 'snscrape.modules.twitter.Tweet'>\n",
      "<class 'snscrape.modules.twitter.Tweet'>\n",
      "<class 'snscrape.modules.twitter.Tweet'>\n",
      "<class 'snscrape.modules.twitter.Tweet'>\n",
      "<class 'snscrape.modules.twitter.Tweet'>\n",
      "<class 'snscrape.modules.twitter.Tweet'>\n",
      "<class 'snscrape.modules.twitter.Tweet'>\n",
      "<class 'snscrape.modules.twitter.Tweet'>\n",
      "<class 'snscrape.modules.twitter.Tweet'>\n"
     ]
    },
    {
     "name": "stderr",
     "output_type": "stream",
     "text": [
      "C:\\Users\\HP\\AppData\\Local\\Temp\\ipykernel_7068\\2943434356.py:3: DeprecatedFeatureWarning: content is deprecated, use rawContent instead\n",
      "  tweet.append(data.content)\n"
     ]
    }
   ],
   "source": [
    "# this will \n",
    "for i, data in enumerate(scraper.get_items()):\n",
    "    tweet.append(data.content)\n",
    "    print(type(data))\n",
    "    if i > 15:\n",
    "        break"
   ]
  },
  {
   "cell_type": "code",
   "execution_count": null,
   "metadata": {},
   "outputs": [],
   "source": [
    "# pls add emoticon remover"
   ]
  },
  {
   "cell_type": "code",
   "execution_count": 4,
   "metadata": {},
   "outputs": [],
   "source": [
    "# this will fram|e the data and save it in excel\n",
    "tweet = pd.DataFrame(tweet, columns=[\"content\"])\n",
    "tweet.to_excel(r\"C:/Users/HP/Downloads/tweetJuan.xlsx\", index = False)"
   ]
  },
  {
   "cell_type": "code",
   "execution_count": null,
   "metadata": {},
   "outputs": [],
   "source": []
  }
 ],
 "metadata": {
  "kernelspec": {
   "display_name": "Python 3",
   "language": "python",
   "name": "python3"
  },
  "language_info": {
   "codemirror_mode": {
    "name": "ipython",
    "version": 3
   },
   "file_extension": ".py",
   "mimetype": "text/x-python",
   "name": "python",
   "nbconvert_exporter": "python",
   "pygments_lexer": "ipython3",
   "version": "3.10.1"
  },
  "orig_nbformat": 4
 },
 "nbformat": 4,
 "nbformat_minor": 2
}

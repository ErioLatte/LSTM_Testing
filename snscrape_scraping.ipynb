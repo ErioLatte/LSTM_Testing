{
 "cells": [
  {
   "cell_type": "code",
   "execution_count": 28,
   "metadata": {},
   "outputs": [],
   "source": [
    "import pandas as pd\n",
    "import re\n",
    "from cleantext import clean\n",
    "import snscrape.modules.twitter as sntwitter\n",
    "import nltk\n",
    "from nltk.corpus import stopwords"
   ]
  },
  {
   "cell_type": "code",
   "execution_count": 29,
   "metadata": {},
   "outputs": [],
   "source": [
    "scraper = sntwitter.TwitterSearchScraper(\"@juanwmv\")\n",
    "tweet = list()"
   ]
  },
  {
   "cell_type": "code",
   "execution_count": 30,
   "metadata": {},
   "outputs": [],
   "source": [
    "class person():\n",
    "    name = ''\n",
    "    num_tweet = 0\n",
    "    my_tweet = list()\n",
    "    toxic = 0\n",
    "    def __init__(self, name, my_tweet):\n",
    "        self.name = name\n",
    "        self.my_tweet = my_tweet\n",
    "        self.num_tweet = len(my_tweet)\n",
    "    \n",
    "    def get_toxic():\n",
    "        # enter all toxic words said by user\n",
    "        # toxic_words = # function here\n",
    "        # self.toxic = toxic_words[0]\n",
    "        # print(f\"user toxicity rate is: {}%\")\n",
    "        return toxic_words"
   ]
  },
  {
   "cell_type": "code",
   "execution_count": 31,
   "metadata": {},
   "outputs": [
    {
     "name": "stderr",
     "output_type": "stream",
     "text": [
      "C:\\Users\\HP\\AppData\\Local\\Temp\\ipykernel_30876\\3624439654.py:3: DeprecatedFeatureWarning: content is deprecated, use rawContent instead\n",
      "  tweet.append(data.content)\n"
     ]
    },
    {
     "data": {
      "text/plain": [
       "['@binus_fess syh egk pp https://t.co/qGSYw1UujG',\n",
       " 'hdh https://t.co/i6LZAngWKx',\n",
       " 'tenang bosen gabut bingung kanye west https://t.co/a5Qm5WqoBb',\n",
       " '@juanwmv @bocahtaikk Hi Kak maaf buat kamu gak nyaman. Utk keluhan kamu silakan DM ya. Tks -TN-',\n",
       " 'ong https://t.co/vwi57fqbHV',\n",
       " '@juanwmv https://t.co/wDqcRmzwsW',\n",
       " '@juanwmv @PT_Transjakarta Agree',\n",
       " 'Traffi is one of the best public transport application fr. bring it back @PT_Transjakarta',\n",
       " 'nahh, i can handle that https://t.co/Cb4Dikpbmu',\n",
       " '@bocahtaikk @KAI121 min kok st.jatibening ke st.binus belum ada yh',\n",
       " '@bocahtaikk @danawallet wduh min kok',\n",
       " '@juanwmv Hai Teman smartfren, jika ada yg bs minfren bantu seputar Smartfrennya, silakan infokan via DM nya ya kak :) . Terima kasih - Bia',\n",
       " '@juanwmv @smartfrencare https://t.co/DzbyKU9F3q',\n",
       " '@bocahtaikk @smartfrencare min',\n",
       " \"trying out https://t.co/8g1onpjsNQ. shit let's u run some of AWS services locally 🤔 https://t.co/6POBTYxekw\",\n",
       " \"took the time and finally listened to smithereens from joji. holy, it's mid 💀 die for you and night rider fire tho\",\n",
       " 'pemerintah tolol, goblok, kontol. out of touch bgt anjing',\n",
       " \"haven't found the time to continue my personal projects cus of university. now is probably the time https://t.co/Yh8ZXVnhDE\",\n",
       " 'https://t.co/ziPAqxOFcf',\n",
       " 'based',\n",
       " 'https://t.co/gHCPBhutC9',\n",
       " '@binus_fess https://t.co/JHfkp0USJM',\n",
       " '@stoookeley https://t.co/uFpfJ1Axrn',\n",
       " 'bro said:\\n\"cause tonight will be the night that i will fall for you\" ⛓️🖤🔪',\n",
       " 'cpek tired brnout ngntuk mhr https://t.co/62iPMb8FqQ',\n",
       " '@juanwmv You horny bruh',\n",
       " 'db normalization got me pukin and shi https://t.co/zvb7vTtDFj',\n",
       " 'amandazahra ONG',\n",
       " 'Wordle 646 3/6\\n\\n⬛🟨🟩⬛⬛\\n🟨⬛🟩🟩🟨\\n🟩🟩🟩🟩🟩',\n",
       " 'not the af highs 💀💀',\n",
       " 'All time topster 🤓 https://t.co/ZLkdhVACUo',\n",
       " 'ost when marnie was there bgus bgt ygy',\n",
       " 'binus liburphobic 😠👎',\n",
       " 'binusfess &gt; sunibcurhat fr',\n",
       " 'Wordle 644 3/6\\n\\n⬛🟩⬛🟨🟨\\n⬛🟩🟨🟩🟩\\n🟩🟩🟩🟩🟩',\n",
       " 'corecore is so fucking stupid and cringe',\n",
       " 'LMAOOO',\n",
       " '😭😭😭😭 https://t.co/XgNdyMjETA',\n",
       " '🤓 https://t.co/5UK1kK6SEh',\n",
       " \"found this in a mall's toilet. wtf was this dude trynna do https://t.co/S06IaLSPi3\",\n",
       " 'bacot',\n",
       " \"'before your eyes' is such a beautiful game bro, FUCKIGN CRIED SO HARD MANN WTFF\",\n",
       " 'fuck.. rip 🙏',\n",
       " 'had a back to back sleep paralysis this morning 🗿',\n",
       " '@juanwmv huh???? https://t.co/xzAvg5iAFd',\n",
       " '@bocahtaikk https://t.co/v35C1a6hxn',\n",
       " '@juanwmv Goofy ah pig https://t.co/xwWk77Eo9Q',\n",
       " 'hadoop ecosystem got some of the most goofy aah logos out there bro 💀 https://t.co/RDdyMfIteq',\n",
       " 'feliz jueves',\n",
       " '@ErioYoshino https://t.co/O5X3qbmJIC',\n",
       " \"what happened to joji's chloe burbank project bro\",\n",
       " 'Wordle 632 3/6\\n\\n⬛⬛🟩⬛🟩\\n⬛🟩🟩🟩🟩\\n🟩🟩🟩🟩🟩']"
      ]
     },
     "execution_count": 31,
     "metadata": {},
     "output_type": "execute_result"
    }
   ],
   "source": [
    "# this will take the tweet\n",
    "for i, data in enumerate(scraper.get_items()):\n",
    "    tweet.append(data.content)\n",
    "    if i > 50:\n",
    "        break\n",
    "\n",
    "tweet"
   ]
  },
  {
   "cell_type": "code",
   "execution_count": 32,
   "metadata": {},
   "outputs": [
    {
     "name": "stdout",
     "output_type": "stream",
     "text": [
      "text1 = @binus_fess syh egk pp https://t.co/qGSYw1UujG\n",
      "text2 = ['@', 'binus_fess', 'syh', 'egk', 'pp', 'https', ':', '//t.co/qGSYw1UujG']\n"
     ]
    }
   ],
   "source": []
  },
  {
   "cell_type": "code",
   "execution_count": 33,
   "metadata": {},
   "outputs": [
    {
     "name": "stdout",
     "output_type": "stream",
     "text": [
      "{'such', 'very', 'herself', 'ma', 'don', 'into', 'about', \"you've\", 'yourself', 'during', 'him', \"you'd\", 'until', 'she', 'no', 'shan', 'all', 'up', 'their', 'through', 'am', 'be', 'on', 'to', \"she's\", 'weren', 'off', 'i', 'has', 'with', 'any', 've', \"mustn't\", 'why', 'haven', 'being', 're', \"aren't\", 'just', 'ourselves', 'now', \"you'll\", \"isn't\", \"won't\", 'does', \"you're\", 'over', 'below', \"haven't\", 'me', 'had', 'his', 'this', 'then', 'than', \"hadn't\", \"shouldn't\", 'been', 'aren', 'is', 'from', 'wouldn', 'theirs', 'ours', 'few', 'yourselves', 'wasn', 'mightn', 'how', 'nor', 'again', 'only', 'will', \"that'll\", 'our', 'it', 'doing', 'doesn', 'needn', \"needn't\", \"didn't\", \"weren't\", \"mightn't\", 'an', 'the', 'before', 'other', 'hers', 'having', 'y', 'if', 'each', 'them', 'himself', 'those', \"don't\", 'a', 'were', 'some', 'so', 'yours', 'these', 'm', 'in', 'didn', 'shouldn', 'are', \"couldn't\", 'ain', 'out', 'both', \"it's\", 'which', 'between', 'you', 'because', \"should've\", 'and', 'its', 'not', 'do', 'at', \"wouldn't\", 'against', 'my', 's', 'under', 'most', 'we', 'more', 'own', 'after', 'll', 'who', 'her', 'where', 'can', 'here', 'for', 'down', 'myself', 'themselves', 'whom', 'have', 'once', 'what', 'above', \"wasn't\", 'when', 'while', 'hadn', 'of', 'he', 'too', 'or', \"shan't\", \"doesn't\", 'they', 'should', 'won', 'd', 'itself', 'was', 'as', 'further', 't', \"hasn't\", 'mustn', 'your', 'but', 'there', 'by', 'couldn', 'that', 'isn', 'same', 'o', 'did', 'hasn'}\n"
     ]
    }
   ],
   "source": [
    "stop_words = set(stopwords.words('english'))\n",
    "print(stop_words)"
   ]
  },
  {
   "cell_type": "code",
   "execution_count": 44,
   "metadata": {},
   "outputs": [
    {
     "name": "stdout",
     "output_type": "stream",
     "text": [
      "text1 = @binus_fess syh egk pp https://t.co/qGSYw1UujG\n",
      "text2 = ['@', 'binus_fess', 'syh', 'egk', 'pp', 'https', ':', '//t.co/qGSYw1UujG']\n"
     ]
    }
   ],
   "source": [
    "# print(tweet[0])\n",
    "texta = tweet[0]\n",
    "tokenize = nltk.word_tokenize(texta)\n",
    "textb = [word for word in tokenize if not word.lower() in stop_words]\n",
    "# for word in tokenize:\n",
    "    # print(word)\n",
    "\n",
    "print(f\"text1 = {texta}\\ntext2 = {textb}\")"
   ]
  },
  {
   "cell_type": "code",
   "execution_count": null,
   "metadata": {},
   "outputs": [],
   "source": [
    "def remove(tweet):\n",
    "    removed_tweet = list()\n",
    "\n",
    "    # remove emoji\n",
    "    for text in tweet:\n",
    "        removed_tweet.append(clean(text, no_emoji=True))\n",
    "    # remove urls\n",
    "    regex = r\"(?i)\\b((?:https?://|www\\d{0,3}[.]|[a-z0-9.\\-]+[.][a-z]{2,4}/)(?:[^\\s()<>]+|\\(([^\\s()<>]+|(\\([^\\s()<>]+\\)))*\\))+(?:\\(([^\\s()<>]+|(\\([^\\s()<>]+\\)))*\\)|[^\\s`!()\\[\\]{};:'\\\".,<>?«»“”‘’]))\"\n",
    "    removed_tweet = [data for data in clean_tweet if len(re.findall(regex, data))==0]\n",
    "\n",
    "    # remove stopwords\n",
    "    removed_tweet = [data in]\n",
    "    return removed_tweet"
   ]
  },
  {
   "cell_type": "code",
   "execution_count": 1,
   "metadata": {},
   "outputs": [
    {
     "ename": "IndentationError",
     "evalue": "expected an indented block after function definition on line 1 (1461919324.py, line 1)",
     "output_type": "error",
     "traceback": [
      "\u001b[1;36m  Input \u001b[1;32mIn [1]\u001b[1;36m\u001b[0m\n\u001b[1;33m    def clean_tweet(tweet):\u001b[0m\n\u001b[1;37m                           ^\u001b[0m\n\u001b[1;31mIndentationError\u001b[0m\u001b[1;31m:\u001b[0m expected an indented block after function definition on line 1\n"
     ]
    }
   ],
   "source": [
    "def clean(tweet):\n",
    "    clean_tweet = list()\n",
    "    \n",
    "    \n",
    "    # remove null tweet\n",
    "    clean_tweet = [data for data in clean_tweet if len(data)==0]\n",
    "\n",
    "    # lowercase\n",
    "    final_tweet = [text.lower() for text in clean_tweet]\n",
    "\n",
    "    # remove\n",
    "    \n",
    "\n",
    "     "
   ]
  },
  {
   "cell_type": "code",
   "execution_count": 36,
   "metadata": {},
   "outputs": [
    {
     "name": "stdout",
     "output_type": "stream",
     "text": [
      "['hdh https://t.co/i6lzangwkx', '@juanwmv @bocahtaikk hi kak maaf buat kamu gak nyaman. utk keluhan kamu silakan dm ya. tks -tn-', '@juanwmv https://t.co/wdqcrmzwsw', '@juanwmv @pt_transjakarta agree', 'traffi is one of the best public transport application fr. bring it back @pt_transjakarta', '@bocahtaikk @kai121 min kok st.jatibening ke st.binus belum ada yh', '@bocahtaikk @danawallet wduh min kok', '@juanwmv hai teman smartfren, jika ada yg bs minfren bantu seputar smartfrennya, silakan infokan via dm nya ya kak :) . terima kasih - bia', '@bocahtaikk @smartfrencare min', \"took the time and finally listened to smithereens from joji. holy, it's mid die for you and night rider fire tho\", 'pemerintah tolol, goblok, kontol. out of touch bgt anjing', 'https://t.co/zipaqxofcf', 'based', '@binus_fess https://t.co/jhfkp0usjm', 'bro said:\\n\"cause tonight will be the night that i will fall for you\"', '@juanwmv you horny bruh', 'amandazahra ong', 'wordle 646 3/6', 'not the af highs', 'ost when marnie was there bgus bgt ygy', 'binus liburphobic', 'binusfess > sunibcurhat fr', 'wordle 644 3/6', 'corecore is so fucking stupid and cringe', 'lmaooo', 'https://t.co/5uk1kk6seh', 'bacot', \"'before your eyes' is such a beautiful game bro, fuckign cried so hard mann wtff\", 'fuck.. rip', 'had a back to back sleep paralysis this morning', '@bocahtaikk https://t.co/v35c1a6hxn', 'hadoop ecosystem got some of the most goofy aah logos out there bro https://t.co/rddymfiteq', 'feliz jueves', \"what happened to joji's chloe burbank project bro\", 'wordle 632 3/6']\n"
     ]
    }
   ],
   "source": [
    "# lowercase all\n",
    "final_tweet = [text.lower() for text in clean_tweet]\n",
    "print(final_tweet)\n",
    "    "
   ]
  },
  {
   "cell_type": "code",
   "execution_count": 34,
   "metadata": {},
   "outputs": [
    {
     "data": {
      "text/html": [
       "<div>\n",
       "<style scoped>\n",
       "    .dataframe tbody tr th:only-of-type {\n",
       "        vertical-align: middle;\n",
       "    }\n",
       "\n",
       "    .dataframe tbody tr th {\n",
       "        vertical-align: top;\n",
       "    }\n",
       "\n",
       "    .dataframe thead th {\n",
       "        text-align: right;\n",
       "    }\n",
       "</style>\n",
       "<table border=\"1\" class=\"dataframe\">\n",
       "  <thead>\n",
       "    <tr style=\"text-align: right;\">\n",
       "      <th></th>\n",
       "      <th>content</th>\n",
       "    </tr>\n",
       "  </thead>\n",
       "  <tbody>\n",
       "    <tr>\n",
       "      <th>0</th>\n",
       "      <td>hdh https://t.co/i6lzangwkx</td>\n",
       "    </tr>\n",
       "    <tr>\n",
       "      <th>1</th>\n",
       "      <td>@juanwmv @bocahtaikk hi kak maaf buat kamu gak...</td>\n",
       "    </tr>\n",
       "    <tr>\n",
       "      <th>2</th>\n",
       "      <td>@juanwmv https://t.co/wdqcrmzwsw</td>\n",
       "    </tr>\n",
       "    <tr>\n",
       "      <th>3</th>\n",
       "      <td>@juanwmv @pt_transjakarta agree</td>\n",
       "    </tr>\n",
       "    <tr>\n",
       "      <th>4</th>\n",
       "      <td>traffi is one of the best public transport app...</td>\n",
       "    </tr>\n",
       "    <tr>\n",
       "      <th>5</th>\n",
       "      <td>@bocahtaikk @kai121 min kok st.jatibening ke s...</td>\n",
       "    </tr>\n",
       "    <tr>\n",
       "      <th>6</th>\n",
       "      <td>@bocahtaikk @danawallet wduh min kok</td>\n",
       "    </tr>\n",
       "    <tr>\n",
       "      <th>7</th>\n",
       "      <td>@juanwmv hai teman smartfren, jika ada yg bs m...</td>\n",
       "    </tr>\n",
       "    <tr>\n",
       "      <th>8</th>\n",
       "      <td>@bocahtaikk @smartfrencare min</td>\n",
       "    </tr>\n",
       "    <tr>\n",
       "      <th>9</th>\n",
       "      <td>took the time and finally listened to smithere...</td>\n",
       "    </tr>\n",
       "    <tr>\n",
       "      <th>10</th>\n",
       "      <td>pemerintah tolol, goblok, kontol. out of touch...</td>\n",
       "    </tr>\n",
       "    <tr>\n",
       "      <th>11</th>\n",
       "      <td>https://t.co/zipaqxofcf</td>\n",
       "    </tr>\n",
       "    <tr>\n",
       "      <th>12</th>\n",
       "      <td>based</td>\n",
       "    </tr>\n",
       "    <tr>\n",
       "      <th>13</th>\n",
       "      <td>@binus_fess https://t.co/jhfkp0usjm</td>\n",
       "    </tr>\n",
       "    <tr>\n",
       "      <th>14</th>\n",
       "      <td>bro said:\\n\"cause tonight will be the night th...</td>\n",
       "    </tr>\n",
       "    <tr>\n",
       "      <th>15</th>\n",
       "      <td>@juanwmv you horny bruh</td>\n",
       "    </tr>\n",
       "    <tr>\n",
       "      <th>16</th>\n",
       "      <td>amandazahra ong</td>\n",
       "    </tr>\n",
       "    <tr>\n",
       "      <th>17</th>\n",
       "      <td>wordle 646 3/6</td>\n",
       "    </tr>\n",
       "    <tr>\n",
       "      <th>18</th>\n",
       "      <td>not the af highs</td>\n",
       "    </tr>\n",
       "    <tr>\n",
       "      <th>19</th>\n",
       "      <td>ost when marnie was there bgus bgt ygy</td>\n",
       "    </tr>\n",
       "    <tr>\n",
       "      <th>20</th>\n",
       "      <td>binus liburphobic</td>\n",
       "    </tr>\n",
       "    <tr>\n",
       "      <th>21</th>\n",
       "      <td>binusfess &gt; sunibcurhat fr</td>\n",
       "    </tr>\n",
       "    <tr>\n",
       "      <th>22</th>\n",
       "      <td>wordle 644 3/6</td>\n",
       "    </tr>\n",
       "    <tr>\n",
       "      <th>23</th>\n",
       "      <td>corecore is so fucking stupid and cringe</td>\n",
       "    </tr>\n",
       "    <tr>\n",
       "      <th>24</th>\n",
       "      <td>lmaooo</td>\n",
       "    </tr>\n",
       "    <tr>\n",
       "      <th>25</th>\n",
       "      <td>https://t.co/5uk1kk6seh</td>\n",
       "    </tr>\n",
       "    <tr>\n",
       "      <th>26</th>\n",
       "      <td>bacot</td>\n",
       "    </tr>\n",
       "    <tr>\n",
       "      <th>27</th>\n",
       "      <td>'before your eyes' is such a beautiful game br...</td>\n",
       "    </tr>\n",
       "    <tr>\n",
       "      <th>28</th>\n",
       "      <td>fuck.. rip</td>\n",
       "    </tr>\n",
       "    <tr>\n",
       "      <th>29</th>\n",
       "      <td>had a back to back sleep paralysis this morning</td>\n",
       "    </tr>\n",
       "    <tr>\n",
       "      <th>30</th>\n",
       "      <td>@bocahtaikk https://t.co/v35c1a6hxn</td>\n",
       "    </tr>\n",
       "    <tr>\n",
       "      <th>31</th>\n",
       "      <td>hadoop ecosystem got some of the most goofy aa...</td>\n",
       "    </tr>\n",
       "    <tr>\n",
       "      <th>32</th>\n",
       "      <td>feliz jueves</td>\n",
       "    </tr>\n",
       "    <tr>\n",
       "      <th>33</th>\n",
       "      <td>what happened to joji's chloe burbank project bro</td>\n",
       "    </tr>\n",
       "    <tr>\n",
       "      <th>34</th>\n",
       "      <td>wordle 632 3/6</td>\n",
       "    </tr>\n",
       "  </tbody>\n",
       "</table>\n",
       "</div>"
      ],
      "text/plain": [
       "                                              content\n",
       "0                         hdh https://t.co/i6lzangwkx\n",
       "1   @juanwmv @bocahtaikk hi kak maaf buat kamu gak...\n",
       "2                    @juanwmv https://t.co/wdqcrmzwsw\n",
       "3                     @juanwmv @pt_transjakarta agree\n",
       "4   traffi is one of the best public transport app...\n",
       "5   @bocahtaikk @kai121 min kok st.jatibening ke s...\n",
       "6                @bocahtaikk @danawallet wduh min kok\n",
       "7   @juanwmv hai teman smartfren, jika ada yg bs m...\n",
       "8                      @bocahtaikk @smartfrencare min\n",
       "9   took the time and finally listened to smithere...\n",
       "10  pemerintah tolol, goblok, kontol. out of touch...\n",
       "11                            https://t.co/zipaqxofcf\n",
       "12                                              based\n",
       "13                @binus_fess https://t.co/jhfkp0usjm\n",
       "14  bro said:\\n\"cause tonight will be the night th...\n",
       "15                            @juanwmv you horny bruh\n",
       "16                                    amandazahra ong\n",
       "17                                     wordle 646 3/6\n",
       "18                                   not the af highs\n",
       "19             ost when marnie was there bgus bgt ygy\n",
       "20                                  binus liburphobic\n",
       "21                         binusfess > sunibcurhat fr\n",
       "22                                     wordle 644 3/6\n",
       "23           corecore is so fucking stupid and cringe\n",
       "24                                             lmaooo\n",
       "25                            https://t.co/5uk1kk6seh\n",
       "26                                              bacot\n",
       "27  'before your eyes' is such a beautiful game br...\n",
       "28                                         fuck.. rip\n",
       "29    had a back to back sleep paralysis this morning\n",
       "30                @bocahtaikk https://t.co/v35c1a6hxn\n",
       "31  hadoop ecosystem got some of the most goofy aa...\n",
       "32                                       feliz jueves\n",
       "33  what happened to joji's chloe burbank project bro\n",
       "34                                     wordle 632 3/6"
      ]
     },
     "execution_count": 34,
     "metadata": {},
     "output_type": "execute_result"
    }
   ],
   "source": [
    "# this will fram|e the data and save it in excel\n",
    "tweet = pd.DataFrame(clean_tweet, columns=[\"content\"])\n",
    "tweet\n",
    "# tweet.to_excel(r\"C:/Users/HP/Downloads/tweetJuan.xlsx\", index = False)"
   ]
  },
  {
   "cell_type": "code",
   "execution_count": null,
   "metadata": {},
   "outputs": [],
   "source": []
  }
 ],
 "metadata": {
  "kernelspec": {
   "display_name": "Python 3",
   "language": "python",
   "name": "python3"
  },
  "language_info": {
   "codemirror_mode": {
    "name": "ipython",
    "version": 3
   },
   "file_extension": ".py",
   "mimetype": "text/x-python",
   "name": "python",
   "nbconvert_exporter": "python",
   "pygments_lexer": "ipython3",
   "version": "3.10.1"
  },
  "orig_nbformat": 4
 },
 "nbformat": 4,
 "nbformat_minor": 2
}

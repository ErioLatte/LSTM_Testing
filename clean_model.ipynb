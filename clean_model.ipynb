{
 "cells": [
  {
   "cell_type": "code",
   "execution_count": 1,
   "metadata": {},
   "outputs": [],
   "source": [
    "import pandas as pd # read the csv\n",
    "import re # regex to detect username, url, html entity \n",
    "import nltk # to use word tokenize (split the sentence into words)\n",
    "import numpy as np\n",
    "from nltk.corpus import stopwords # to remove the stopwords\n",
    "from sklearn.model_selection import train_test_split\n",
    "from tensorflow.keras.preprocessing.text import Tokenizer\n",
    "from tensorflow.keras.preprocessing.sequence import pad_sequences\n",
    "from tensorflow.keras.models import Sequential\n",
    "from tensorflow.keras.layers import Embedding, LSTM, Dense, Dropout\n",
    "from tensorflow.keras.callbacks import EarlyStopping\n",
    "\n",
    "from keras.utils import to_categorical\n",
    "from keras import backend as K"
   ]
  },
  {
   "cell_type": "code",
   "execution_count": 2,
   "metadata": {},
   "outputs": [
    {
     "name": "stdout",
     "output_type": "stream",
     "text": [
      "num of tweets: (24783, 7)\n"
     ]
    }
   ],
   "source": [
    "# initiate the path and read it\n",
    "dataset_path = \"./labeled_data.csv\"\n",
    "df = pd.read_csv(dataset_path)\n",
    "df.head()\n",
    "\n",
    "# dataset shape to know how many tweets in the datasets\n",
    "print(f\"num of tweets: {df.shape}\")\n",
    "\n",
    "# extract the text and labels\n",
    "tweet = list(df['tweet'])\n",
    "labels = list(df['class'])"
   ]
  },
  {
   "attachments": {},
   "cell_type": "markdown",
   "metadata": {},
   "source": [
    "### Steps:\n",
    "1. preprocessing\n",
    "2. splitting\n",
    "3. tokenize & padding\n",
    "4. Create model & train\n",
    "5. evaluate\n",
    "\n",
    "---\n",
    "\n",
    "Preprocessing (cleaning the datasets):\n",
    "- remove html entity\n",
    "- change user tags (@xxx -> user)\n",
    "- remove urls\n",
    "- remove unnecessary  symbol ('', !, \", ') -> cause a lot of noise in the dataset\n",
    "- remove stopwords"
   ]
  },
  {
   "cell_type": "code",
   "execution_count": 3,
   "metadata": {},
   "outputs": [],
   "source": [
    "## notes: all of the function taking 1 text at a time\n",
    "stop_words = set(stopwords.words('english'))\n",
    "# add rt to remove retweet in dataset (noise)\n",
    "stop_words.add(\"rt\")\n",
    "\n",
    "# remove html entity:\n",
    "def remove_entity(raw_text):\n",
    "    entity_regex = r\"&[^\\s;]+;\"\n",
    "    text = re.sub(entity_regex, \"\", raw_text)\n",
    "    return text\n",
    "\n",
    "# change the user tags\n",
    "def change_user(raw_text):\n",
    "    regex = r\"@([^ ]+)\"\n",
    "    text = re.sub(regex, \"user\", raw_text)\n",
    "\n",
    "    return text\n",
    "\n",
    "def remove_hashtag(raw_text):\n",
    "    regex = r\"#([^ ]+)\"\n",
    "    text = re.sub(regex, \"\", raw_text)\n",
    "\n",
    "    return text\n",
    "\n",
    "\n",
    "# remove urls\n",
    "def remove_url(raw_text):\n",
    "    url_regex = r\"(?i)\\b((?:https?://|www\\d{0,3}[.]|[a-z0-9.\\-]+[.][a-z]{2,4}/)(?:[^\\s()<>]+|\\(([^\\s()<>]+|(\\([^\\s()<>]+\\)))*\\))+(?:\\(([^\\s()<>]+|(\\([^\\s()<>]+\\)))*\\)|[^\\s`!()\\[\\]{};:'\\\".,<>?«»“”‘’]))\"\n",
    "    text = re.sub(url_regex, '', raw_text)\n",
    "\n",
    "    return text\n",
    "\n",
    "# remove unnecessary symbols\n",
    "def remove_noise_symbols(raw_text):\n",
    "    text = raw_text.replace('\"', '')\n",
    "    text = text.replace(\"'\", '')\n",
    "    text = text.replace(\"!\", '')\n",
    "    text = text.replace(\"`\", '')\n",
    "    text = text.replace(\"..\", '')\n",
    "    text = text.replace(\"/\", '')\n",
    "    text = text.replace(\"\\\\\", '')\n",
    "    text = text.replace(\"|\", '')\n",
    "    return text\n",
    "\n",
    "# remove stopwords\n",
    "def remove_stopwords(raw_text):\n",
    "    tokenize = nltk.word_tokenize(raw_text)\n",
    "    text = [word for word in tokenize if not word.lower() in stop_words]\n",
    "    text = \" \".join(text)\n",
    "\n",
    "    return text\n",
    "\n",
    "## this function in to clean all the dataset by utilizing all the function above\n",
    "def preprocess(datas):\n",
    "    clean = []\n",
    "    # change the @xxx into \"user\"\n",
    "    clean = [change_user(text) for text in datas]\n",
    "    # remove emojis (specifically unicode emojis)\n",
    "    clean = [remove_entity(text) for text in clean]\n",
    "    # remove urls\n",
    "    clean = [remove_url(text) for text in clean]\n",
    "    # remove  hashtag\n",
    "    clean = [remove_hashtag(text) for text in clean]\n",
    "    # remove trailing stuff\n",
    "    clean = [remove_noise_symbols(text) for text in clean]\n",
    "    # remove stopwords\n",
    "    clean = [remove_stopwords(text) for text in clean]\n",
    "\n",
    "    return clean"
   ]
  },
  {
   "cell_type": "code",
   "execution_count": 4,
   "metadata": {},
   "outputs": [],
   "source": [
    "# call the cleaning function\n",
    "clean_tweet = preprocess(tweet)"
   ]
  },
  {
   "cell_type": "code",
   "execution_count": 5,
   "metadata": {},
   "outputs": [
    {
     "name": "stdout",
     "output_type": "stream",
     "text": [
      "24777\n",
      "24777\n"
     ]
    }
   ],
   "source": [
    "# remove the null tweet and its labels(probably neutral tweet)\n",
    "counter = 0\n",
    "for i, tweet in enumerate(clean_tweet):\n",
    "    if not tweet:\n",
    "        clean_tweet.pop(i)\n",
    "        labels.pop(i)\n",
    "\n",
    "# check the final len\n",
    "print(len(labels))\n",
    "print(len(clean_tweet))"
   ]
  },
  {
   "attachments": {},
   "cell_type": "markdown",
   "metadata": {},
   "source": [
    "Saving clean tweets and reading it"
   ]
  },
  {
   "cell_type": "code",
   "execution_count": 6,
   "metadata": {},
   "outputs": [],
   "source": [
    "# ## uncomment this section if you planning to run many times\n",
    "# # write the clean tweet to txt\n",
    "# def save_tweet(clean_tweet):\n",
    "#     with open(\"clean_tweet.txt\", 'w') as file:\n",
    "#         file.write('\\n'.join(clean_tweet))\n",
    "# # read the tweet (not completed)\n",
    "# def read_tweet():\n",
    "#     tweets = []\n",
    "#     with open(\"clean_tweet.txt\", 'w') as file:\n",
    "#         tweet"
   ]
  },
  {
   "attachments": {},
   "cell_type": "markdown",
   "metadata": {},
   "source": [
    "Splitting the dataset into train, validation and test (70:20:10) "
   ]
  },
  {
   "cell_type": "code",
   "execution_count": 7,
   "metadata": {},
   "outputs": [],
   "source": [
    "X_train, X_test, y_train, y_test = train_test_split(clean_tweet, labels, test_size=0.3, random_state=42)"
   ]
  },
  {
   "cell_type": "code",
   "execution_count": 8,
   "metadata": {},
   "outputs": [
    {
     "name": "stdout",
     "output_type": "stream",
     "text": [
      "2478\n"
     ]
    }
   ],
   "source": [
    "split = len(y_test)//3\n",
    "print(split)"
   ]
  },
  {
   "attachments": {},
   "cell_type": "markdown",
   "metadata": {},
   "source": [
    "Tokenizing and Padding"
   ]
  },
  {
   "cell_type": "code",
   "execution_count": 9,
   "metadata": {},
   "outputs": [],
   "source": [
    "## Tokenizing -> basically we use tokenisation for many things, its commonly used for feature extraction in preprocessing. btw idk how it works as feature extraction tho :(\n",
    "# declare the tokenizer\n",
    "tokenizer = Tokenizer()\n",
    "# build the vocabulary based on train dataset\n",
    "tokenizer.fit_on_texts(X_train)\n",
    "# tokenize the train and test dataset\n",
    "X_train = tokenizer.texts_to_sequences(X_train)\n",
    "X_test = tokenizer.texts_to_sequences(X_test)\n",
    "\n",
    "# vocabulary size (num of unique words) -> will be used in embedding layer\n",
    "vocab_size = len(tokenizer.word_index) + 1"
   ]
  },
  {
   "cell_type": "code",
   "execution_count": 10,
   "metadata": {},
   "outputs": [],
   "source": [
    "## Padding -> to uniform the datas\n",
    "max_length = max(len(seq) for seq in X_train)\n",
    "\n",
    "# # to test an outlier case (if one of the test dataset has longer length)\n",
    "# for x in X_test:\n",
    "#     if len(x) > max_length:\n",
    "#         print(f\"an outlier detected: {x}\")\n",
    "\n",
    "X_train = pad_sequences(X_train, maxlen = max_length)\n",
    "X_test = pad_sequences(X_test, maxlen = max_length)"
   ]
  },
  {
   "cell_type": "code",
   "execution_count": 11,
   "metadata": {},
   "outputs": [],
   "source": [
    "# create hot_labels (biar modelnya bisa predict)\n",
    "# num classes = 3 because the class consist of 3 (neutral, hate speech, offensive language)\n",
    "y_test = to_categorical(y_test, num_classes=3)\n",
    "y_train = to_categorical(y_train, num_classes=3)"
   ]
  },
  {
   "cell_type": "code",
   "execution_count": 12,
   "metadata": {},
   "outputs": [
    {
     "name": "stdout",
     "output_type": "stream",
     "text": [
      "num test tweet: 7434\n",
      "num train tweet: 17343\n"
     ]
    }
   ],
   "source": [
    "# another look on the number of tweet in test and training data\n",
    "print(f\"num test tweet: {y_test.shape[0]}\")\n",
    "print(f\"num train tweet: {y_train.shape[0]}\")"
   ]
  },
  {
   "attachments": {},
   "cell_type": "markdown",
   "metadata": {},
   "source": [
    "Model building"
   ]
  },
  {
   "cell_type": "code",
   "execution_count": 13,
   "metadata": {},
   "outputs": [],
   "source": [
    "# use some early stopping to get the right epoch\n",
    "# Define the EarlyStopping callback\n",
    "early_stopping = EarlyStopping(monitor='val_loss', patience=5, restore_best_weights=True)\n",
    "\n",
    "# evaluation metrics recall, precision, and f1\n",
    "def recall(y_true, y_pred):\n",
    "    true_positives = K.sum(K.round(K.clip(y_true * y_pred, 0, 1)))\n",
    "    possible_positives = K.sum(K.round(K.clip(y_true, 0, 1)))\n",
    "    recall = true_positives / (possible_positives + K.epsilon())\n",
    "    return recall\n",
    "\n",
    "def precision(y_true, y_pred):\n",
    "    true_positives = K.sum(K.round(K.clip(y_true * y_pred, 0, 1)))\n",
    "    predicted_positives = K.sum(K.round(K.clip(y_pred, 0, 1)))\n",
    "    precision = true_positives / (predicted_positives + K.epsilon())\n",
    "    return precision\n",
    "\n",
    "def f1(y_true, y_pred):\n",
    "    precisions = precision(y_true, y_pred)\n",
    "    recalls = recall(y_true, y_pred)\n",
    "    return 2*((precisions*recalls)/(precisions+recalls+K.epsilon()))"
   ]
  },
  {
   "cell_type": "code",
   "execution_count": 14,
   "metadata": {},
   "outputs": [],
   "source": [
    "# change dis if u want\n",
    "output_dim = 200\n",
    "\n",
    "# LSTM model architechture (CNN + LSTM)\n",
    "model = Sequential([\n",
    "    # embedding layer \n",
    "    Embedding(vocab_size, output_dim, input_length=max_length),\n",
    "    # lstm layer\n",
    "    LSTM(1024, dropout=0.3, recurrent_dropout=0.3),\n",
    "    # dropout to prevent overfitting\n",
    "    Dropout(0.5),\n",
    "    # dense to connect the previous output with current layer\n",
    "    Dense(2048, activation=\"relu\"),\n",
    "    # dropout to prevent overfitting\n",
    "    Dropout(0.5),\n",
    "    # this is output layer, with 3 class (0, 1, 2)\n",
    "    Dense(3, activation=\"softmax\"),\n",
    "])\n",
    "\n",
    "model.compile(optimizer='adam', loss='categorical_crossentropy', metrics=['accuracy',f1,precision, recall])\n"
   ]
  },
  {
   "cell_type": "code",
   "execution_count": 15,
   "metadata": {},
   "outputs": [
    {
     "name": "stdout",
     "output_type": "stream",
     "text": [
      "Model: \"sequential\"\n",
      "_________________________________________________________________\n",
      " Layer (type)                Output Shape              Param #   \n",
      "=================================================================\n",
      " embedding (Embedding)       (None, 26, 200)           3245400   \n",
      "                                                                 \n",
      " lstm (LSTM)                 (None, 1024)              5017600   \n",
      "                                                                 \n",
      " dropout (Dropout)           (None, 1024)              0         \n",
      "                                                                 \n",
      " dense (Dense)               (None, 2048)              2099200   \n",
      "                                                                 \n",
      " dropout_1 (Dropout)         (None, 2048)              0         \n",
      "                                                                 \n",
      " dense_1 (Dense)             (None, 3)                 6147      \n",
      "                                                                 \n",
      "=================================================================\n",
      "Total params: 10,368,347\n",
      "Trainable params: 10,368,347\n",
      "Non-trainable params: 0\n",
      "_________________________________________________________________\n"
     ]
    }
   ],
   "source": [
    "# checking the model parameters\n",
    "model.summary()"
   ]
  },
  {
   "cell_type": "code",
   "execution_count": 16,
   "metadata": {},
   "outputs": [
    {
     "name": "stdout",
     "output_type": "stream",
     "text": [
      "Epoch 1/1000\n",
      "542/542 [==============================] - 586s 1s/step - loss: 0.3859 - accuracy: 0.8635 - f1: 0.8576 - precision: 0.8774 - recall: 0.8396 - val_loss: 0.3421 - val_accuracy: 0.8889 - val_f1: 0.8829 - val_precision: 0.9149 - val_recall: 0.8542\n",
      "Epoch 2/1000\n",
      "542/542 [==============================] - 580s 1s/step - loss: 0.2221 - accuracy: 0.9229 - f1: 0.9221 - precision: 0.9280 - recall: 0.9164 - val_loss: 0.3192 - val_accuracy: 0.8959 - val_f1: 0.8961 - val_precision: 0.9022 - val_recall: 0.8903\n",
      "Epoch 3/1000\n",
      "542/542 [==============================] - 580s 1s/step - loss: 0.1394 - accuracy: 0.9521 - f1: 0.9519 - precision: 0.9542 - recall: 0.9497 - val_loss: 0.4012 - val_accuracy: 0.8779 - val_f1: 0.8777 - val_precision: 0.8824 - val_recall: 0.8732\n",
      "Epoch 4/1000\n",
      "542/542 [==============================] - 557s 1s/step - loss: 0.0907 - accuracy: 0.9687 - f1: 0.9687 - precision: 0.9701 - recall: 0.9675 - val_loss: 0.4706 - val_accuracy: 0.8765 - val_f1: 0.8757 - val_precision: 0.8781 - val_recall: 0.8735\n",
      "Epoch 5/1000\n",
      "542/542 [==============================] - 536s 989ms/step - loss: 0.0648 - accuracy: 0.9767 - f1: 0.9767 - precision: 0.9773 - recall: 0.9762 - val_loss: 0.5531 - val_accuracy: 0.8783 - val_f1: 0.8775 - val_precision: 0.8802 - val_recall: 0.8749\n",
      "Epoch 6/1000\n",
      "542/542 [==============================] - 524s 967ms/step - loss: 0.0541 - accuracy: 0.9807 - f1: 0.9807 - precision: 0.9813 - recall: 0.9801 - val_loss: 0.6836 - val_accuracy: 0.8581 - val_f1: 0.8578 - val_precision: 0.8594 - val_recall: 0.8562\n",
      "Epoch 7/1000\n",
      "542/542 [==============================] - 563s 1s/step - loss: 0.0481 - accuracy: 0.9824 - f1: 0.9823 - precision: 0.9829 - recall: 0.9818 - val_loss: 0.6669 - val_accuracy: 0.8715 - val_f1: 0.8715 - val_precision: 0.8743 - val_recall: 0.8688\n"
     ]
    }
   ],
   "source": [
    "# Train the model\n",
    "model_history = model.fit(\n",
    "    X_train,\n",
    "    y_train,\n",
    "    callbacks=[early_stopping],\n",
    "    batch_size = 32,\n",
    "    epochs=1000,\n",
    "    validation_data=(X_test, y_test)\n",
    ")"
   ]
  },
  {
   "cell_type": "code",
   "execution_count": 17,
   "metadata": {},
   "outputs": [
    {
     "name": "stdout",
     "output_type": "stream",
     "text": [
      "Best Epoch: 2\n"
     ]
    }
   ],
   "source": [
    "# Print the best epoch (by val loss)\n",
    "best_epoch = early_stopping.stopped_epoch\n",
    "print(\"Best Epoch:\", best_epoch-4)"
   ]
  },
  {
   "attachments": {},
   "cell_type": "markdown",
   "metadata": {},
   "source": [
    "#### test 1 batch size 32\n",
    "##### output_dim = 100 (best epoch = 1, based on val loss)\n",
    "- loss: 0.4318\n",
    "- accuracy: 0.8523\n",
    "- f1: 0.8356\n",
    "- precision: 0.8592\n",
    "- recall: 0.8167\n",
    "- val_loss: 0.3283\n",
    "- val_accuracy: 0.8864\n",
    "- val_f1: 0.8851\n",
    "- val_precision: 0.9080\n",
    "- val_recall: 0.8641\n",
    "\n",
    "##### output_dim = 200 (best epoch = 1, based on val loss)\n",
    "- loss: 0.4174\n",
    "- accuracy: 0.8545\n",
    "- f1: 0.8421\n",
    "- precision: 0.8706\n",
    "- recall: 0.8185\n",
    "- val_loss: 0.3044\n",
    "- val_accuracy: 0.8913\n",
    "- val_f1: 0.8906\n",
    "- val_precision: 0.9078\n",
    "- val_recall: 0.8745\n",
    "\n",
    "##### LSTM (128), dense (256)\n",
    "- loss: 0.3906\n",
    "- accuracy: 0.8656\n",
    "- f1: 0.8559\n",
    "- precision: 0.8769\n",
    "- recall: 0.8384\n",
    "- val_loss: 0.2915\n",
    "- val_accuracy: 0.8987\n",
    "- val_f1: 0.8985\n",
    "- val_precision: 0.9111\n",
    "- val_recall: 0.8866\n",
    "\n",
    "##### LSTM (256), dense (512)\n",
    "- loss: 0.3818\n",
    "- accuracy: 0.8678\n",
    "- f1: 0.8617\n",
    "- precision: 0.8783\n",
    "- recall: 0.8466\n",
    "- val_loss: 0.3016\n",
    "- val_accuracy: 0.8943\n",
    "- val_f1: 0.8944\n",
    "- val_precision: 0.9017\n",
    "- val_recall: 0.8874\n",
    "\n",
    "##### LSTM (512), dense (1024)\n",
    "- loss: 0.3763\n",
    "- accuracy: 0.8688\n",
    "- f1: 0.8632\n",
    "- precision: 0.8813\n",
    "- recall: 0.8476\n",
    "- val_loss: 0.2958\n",
    "- val_accuracy: 0.8965\n",
    "- val_f1: 0.8965\n",
    "- val_precision: 0.9084\n",
    "- val_recall: 0.8852\n",
    "\n",
    "##### LSTM (1024), dense (2048)\n",
    "- loss: 0.2217\n",
    "- accuracy: 0.9233\n",
    "- f1: 0.9223\n",
    "- precision: 0.9281\n",
    "- recall: 0.9168\n",
    "- val_loss: 0.3078\n",
    "- val_accuracy: 0.8935\n",
    "- val_f1: 0.8936\n",
    "- val_precision: 0.9040\n",
    "- val_recall: 0.8836"
   ]
  },
  {
   "cell_type": "markdown",
   "metadata": {},
   "source": []
  }
 ],
 "metadata": {
  "kernelspec": {
   "display_name": "Python 3",
   "language": "python",
   "name": "python3"
  },
  "language_info": {
   "codemirror_mode": {
    "name": "ipython",
    "version": 3
   },
   "file_extension": ".py",
   "mimetype": "text/x-python",
   "name": "python",
   "nbconvert_exporter": "python",
   "pygments_lexer": "ipython3",
   "version": "3.10.1"
  },
  "orig_nbformat": 4
 },
 "nbformat": 4,
 "nbformat_minor": 2
}

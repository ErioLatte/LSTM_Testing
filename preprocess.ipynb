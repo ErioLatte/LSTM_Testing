{
 "cells": [
  {
   "cell_type": "code",
   "execution_count": 4,
   "metadata": {},
   "outputs": [],
   "source": [
    "import pandas as pd\n",
    "import re\n",
    "import snscrape.modules.twitter as sntwitter\n",
    "import nltk\n",
    "from nltk.corpus import stopwords\n",
    "import demoji"
   ]
  },
  {
   "cell_type": "code",
   "execution_count": 5,
   "metadata": {},
   "outputs": [],
   "source": [
    "# this will take the tweet\n",
    "# passed value = username & num of tweet scraped\n",
    "def get_tweet(string, num):\n",
    "    scraper = sntwitter.TwitterSearchScraper(string)\n",
    "    tweet = [\" \"]\n",
    "    for i, data in enumerate(scraper.get_items()):\n",
    "        tweet.append(data.rawContent)\n",
    "        if i > num:\n",
    "            break\n",
    "    return tweet\n"
   ]
  },
  {
   "cell_type": "code",
   "execution_count": 6,
   "metadata": {},
   "outputs": [],
   "source": [
    "stop_words = set(stopwords.words('english'))\n",
    "def remove_stopwords(raw):\n",
    "    tokenize = nltk.word_tokenize(raw)\n",
    "    text = [word for word in tokenize if not word.lower() in stop_words]\n",
    "    text = \" \".join(text)\n",
    "\n",
    "    return text"
   ]
  },
  {
   "cell_type": "code",
   "execution_count": 7,
   "metadata": {},
   "outputs": [],
   "source": [
    "def remove_noise(tweet):\n",
    "    noiseless_tweet = list()\n",
    "    \n",
    "    # remove emoji\n",
    "    for text in tweet:\n",
    "        noiseless_tweet.append(demoji.replace(text, \"\"))\n",
    "\n",
    "    # remove urls\n",
    "    regex = r\"(?i)\\b((?:https?://|www\\d{0,3}[.]|[a-z0-9.\\-]+[.][a-z]{2,4}/)(?:[^\\s()<>]+|\\(([^\\s()<>]+|(\\([^\\s()<>]+\\)))*\\))+(?:\\(([^\\s()<>]+|(\\([^\\s()<>]+\\)))*\\)|[^\\s`!()\\[\\]{};:'\\\".,<>?«»“”‘’]))\"\n",
    "    noiseless_tweet = [data for data in noiseless_tweet if len(re.findall(regex, data))==0]\n",
    "\n",
    "    # remove stopwords + lowercasing\n",
    "    noiseless_tweet = [remove_stopwords(raw) for raw in noiseless_tweet]\n",
    "\n",
    "    return noiseless_tweet"
   ]
  },
  {
   "cell_type": "code",
   "execution_count": 8,
   "metadata": {},
   "outputs": [],
   "source": [
    "def clean(tweet):\n",
    "    # remove null tweet\n",
    "    print(tweet)\n",
    "    clean_tweet = [data for data in tweet if len(data)>0]\n",
    "    return clean_tweet"
   ]
  },
  {
   "cell_type": "code",
   "execution_count": 10,
   "metadata": {},
   "outputs": [
    {
     "name": "stderr",
     "output_type": "stream",
     "text": [
      "Error retrieving https://api.twitter.com/2/search/adaptive.json?include_profile_interstitial_type=1&include_blocking=1&include_blocked_by=1&include_followed_by=1&include_want_retweets=1&include_mute_edge=1&include_can_dm=1&include_can_media_tag=1&include_ext_has_nft_avatar=1&include_ext_is_blue_verified=1&include_ext_verified_type=1&skip_status=1&cards_platform=Web-12&include_cards=1&include_ext_alt_text=true&include_ext_limited_action_results=false&include_quote_count=true&include_reply_count=1&tweet_mode=extended&include_ext_collab_control=true&include_ext_views=true&include_entities=true&include_user_entities=true&include_ext_media_color=true&include_ext_media_availability=true&include_ext_sensitive_media_warning=true&include_ext_trusted_friends_metadata=true&send_error_codes=true&simple_quoted_tweet=true&q=%40juanwmv&tweet_search_mode=live&count=20&query_source=spelling_expansion_revert_click&pc=1&spelling_corrections=1&include_ext_edit_control=true&ext=mediaStats%2ChighlightedLabel%2ChasNftAvatar%2CvoiceInfo%2Cenrichments%2CsuperFollowMetadata%2CunmentionInfo%2CeditControl%2Ccollab_control%2Cvibe: blocked (403)\n",
      "4 requests to https://api.twitter.com/2/search/adaptive.json?include_profile_interstitial_type=1&include_blocking=1&include_blocked_by=1&include_followed_by=1&include_want_retweets=1&include_mute_edge=1&include_can_dm=1&include_can_media_tag=1&include_ext_has_nft_avatar=1&include_ext_is_blue_verified=1&include_ext_verified_type=1&skip_status=1&cards_platform=Web-12&include_cards=1&include_ext_alt_text=true&include_ext_limited_action_results=false&include_quote_count=true&include_reply_count=1&tweet_mode=extended&include_ext_collab_control=true&include_ext_views=true&include_entities=true&include_user_entities=true&include_ext_media_color=true&include_ext_media_availability=true&include_ext_sensitive_media_warning=true&include_ext_trusted_friends_metadata=true&send_error_codes=true&simple_quoted_tweet=true&q=%40juanwmv&tweet_search_mode=live&count=20&query_source=spelling_expansion_revert_click&pc=1&spelling_corrections=1&include_ext_edit_control=true&ext=mediaStats%2ChighlightedLabel%2ChasNftAvatar%2CvoiceInfo%2Cenrichments%2CsuperFollowMetadata%2CunmentionInfo%2CeditControl%2Ccollab_control%2Cvibe failed, giving up.\n",
      "Errors: blocked (403), blocked (403), blocked (403), blocked (403)\n"
     ]
    },
    {
     "ename": "ScraperException",
     "evalue": "4 requests to https://api.twitter.com/2/search/adaptive.json?include_profile_interstitial_type=1&include_blocking=1&include_blocked_by=1&include_followed_by=1&include_want_retweets=1&include_mute_edge=1&include_can_dm=1&include_can_media_tag=1&include_ext_has_nft_avatar=1&include_ext_is_blue_verified=1&include_ext_verified_type=1&skip_status=1&cards_platform=Web-12&include_cards=1&include_ext_alt_text=true&include_ext_limited_action_results=false&include_quote_count=true&include_reply_count=1&tweet_mode=extended&include_ext_collab_control=true&include_ext_views=true&include_entities=true&include_user_entities=true&include_ext_media_color=true&include_ext_media_availability=true&include_ext_sensitive_media_warning=true&include_ext_trusted_friends_metadata=true&send_error_codes=true&simple_quoted_tweet=true&q=%40juanwmv&tweet_search_mode=live&count=20&query_source=spelling_expansion_revert_click&pc=1&spelling_corrections=1&include_ext_edit_control=true&ext=mediaStats%2ChighlightedLabel%2ChasNftAvatar%2CvoiceInfo%2Cenrichments%2CsuperFollowMetadata%2CunmentionInfo%2CeditControl%2Ccollab_control%2Cvibe failed, giving up.",
     "output_type": "error",
     "traceback": [
      "\u001b[1;31m---------------------------------------------------------------------------\u001b[0m",
      "\u001b[1;31mScraperException\u001b[0m                          Traceback (most recent call last)",
      "\u001b[1;32mc:\\Users\\HP\\OneDrive - Bina Nusantara\\Documents\\GitHub\\NLP_projectussy\\webscraper.ipynb Cell 6\u001b[0m in \u001b[0;36m<cell line: 1>\u001b[1;34m()\u001b[0m\n\u001b[1;32m----> <a href='vscode-notebook-cell:/c%3A/Users/HP/OneDrive%20-%20Bina%20Nusantara/Documents/GitHub/NLP_projectussy/webscraper.ipynb#W6sZmlsZQ%3D%3D?line=0'>1</a>\u001b[0m tweets \u001b[39m=\u001b[39m get_tweet(\u001b[39m\"\u001b[39;49m\u001b[39m@juanwmv\u001b[39;49m\u001b[39m\"\u001b[39;49m, \u001b[39m50\u001b[39;49m)\n",
      "\u001b[1;32mc:\\Users\\HP\\OneDrive - Bina Nusantara\\Documents\\GitHub\\NLP_projectussy\\webscraper.ipynb Cell 6\u001b[0m in \u001b[0;36mget_tweet\u001b[1;34m(string, num)\u001b[0m\n\u001b[0;32m      <a href='vscode-notebook-cell:/c%3A/Users/HP/OneDrive%20-%20Bina%20Nusantara/Documents/GitHub/NLP_projectussy/webscraper.ipynb#W6sZmlsZQ%3D%3D?line=3'>4</a>\u001b[0m scraper \u001b[39m=\u001b[39m sntwitter\u001b[39m.\u001b[39mTwitterSearchScraper(string)\n\u001b[0;32m      <a href='vscode-notebook-cell:/c%3A/Users/HP/OneDrive%20-%20Bina%20Nusantara/Documents/GitHub/NLP_projectussy/webscraper.ipynb#W6sZmlsZQ%3D%3D?line=4'>5</a>\u001b[0m tweet \u001b[39m=\u001b[39m [\u001b[39m\"\u001b[39m\u001b[39m \u001b[39m\u001b[39m\"\u001b[39m]\n\u001b[1;32m----> <a href='vscode-notebook-cell:/c%3A/Users/HP/OneDrive%20-%20Bina%20Nusantara/Documents/GitHub/NLP_projectussy/webscraper.ipynb#W6sZmlsZQ%3D%3D?line=5'>6</a>\u001b[0m \u001b[39mfor\u001b[39;00m i, data \u001b[39min\u001b[39;00m \u001b[39menumerate\u001b[39m(scraper\u001b[39m.\u001b[39mget_items()):\n\u001b[0;32m      <a href='vscode-notebook-cell:/c%3A/Users/HP/OneDrive%20-%20Bina%20Nusantara/Documents/GitHub/NLP_projectussy/webscraper.ipynb#W6sZmlsZQ%3D%3D?line=6'>7</a>\u001b[0m     tweet\u001b[39m.\u001b[39mappend(data\u001b[39m.\u001b[39mrawContent)\n\u001b[0;32m      <a href='vscode-notebook-cell:/c%3A/Users/HP/OneDrive%20-%20Bina%20Nusantara/Documents/GitHub/NLP_projectussy/webscraper.ipynb#W6sZmlsZQ%3D%3D?line=7'>8</a>\u001b[0m     \u001b[39mif\u001b[39;00m i \u001b[39m>\u001b[39m num:\n",
      "File \u001b[1;32mc:\\Python\\Python310\\lib\\site-packages\\snscrape\\modules\\twitter.py:1659\u001b[0m, in \u001b[0;36mTwitterSearchScraper.get_items\u001b[1;34m(self)\u001b[0m\n\u001b[0;32m   1656\u001b[0m params \u001b[39m=\u001b[39m paginationParams\u001b[39m.\u001b[39mcopy()\n\u001b[0;32m   1657\u001b[0m \u001b[39mdel\u001b[39;00m params[\u001b[39m'\u001b[39m\u001b[39mcursor\u001b[39m\u001b[39m'\u001b[39m]\n\u001b[1;32m-> 1659\u001b[0m \u001b[39mfor\u001b[39;00m obj \u001b[39min\u001b[39;00m \u001b[39mself\u001b[39m\u001b[39m.\u001b[39m_iter_api_data(\u001b[39m'\u001b[39m\u001b[39mhttps://api.twitter.com/2/search/adaptive.json\u001b[39m\u001b[39m'\u001b[39m, _TwitterAPIType\u001b[39m.\u001b[39mV2, params, paginationParams, cursor \u001b[39m=\u001b[39m \u001b[39mself\u001b[39m\u001b[39m.\u001b[39m_cursor):\n\u001b[0;32m   1660\u001b[0m \t\u001b[39myield from\u001b[39;00m \u001b[39mself\u001b[39m\u001b[39m.\u001b[39m_v2_timeline_instructions_to_tweets_or_users(obj)\n",
      "File \u001b[1;32mc:\\Python\\Python310\\lib\\site-packages\\snscrape\\modules\\twitter.py:761\u001b[0m, in \u001b[0;36m_TwitterAPIScraper._iter_api_data\u001b[1;34m(self, endpoint, apiType, params, paginationParams, cursor, direction)\u001b[0m\n\u001b[0;32m    759\u001b[0m \u001b[39mwhile\u001b[39;00m \u001b[39mTrue\u001b[39;00m:\n\u001b[0;32m    760\u001b[0m \t_logger\u001b[39m.\u001b[39minfo(\u001b[39mf\u001b[39m\u001b[39m'\u001b[39m\u001b[39mRetrieving scroll page \u001b[39m\u001b[39m{\u001b[39;00mcursor\u001b[39m}\u001b[39;00m\u001b[39m'\u001b[39m)\n\u001b[1;32m--> 761\u001b[0m \tobj \u001b[39m=\u001b[39m \u001b[39mself\u001b[39;49m\u001b[39m.\u001b[39;49m_get_api_data(endpoint, apiType, reqParams)\n\u001b[0;32m    762\u001b[0m \t\u001b[39myield\u001b[39;00m obj\n\u001b[0;32m    764\u001b[0m \t\u001b[39m# No data format test, just a hard and loud crash if anything's wrong :-)\u001b[39;00m\n",
      "File \u001b[1;32mc:\\Python\\Python310\\lib\\site-packages\\snscrape\\modules\\twitter.py:727\u001b[0m, in \u001b[0;36m_TwitterAPIScraper._get_api_data\u001b[1;34m(self, endpoint, apiType, params)\u001b[0m\n\u001b[0;32m    725\u001b[0m \u001b[39mif\u001b[39;00m apiType \u001b[39mis\u001b[39;00m _TwitterAPIType\u001b[39m.\u001b[39mGRAPHQL:\n\u001b[0;32m    726\u001b[0m \tparams \u001b[39m=\u001b[39m urllib\u001b[39m.\u001b[39mparse\u001b[39m.\u001b[39murlencode({k: json\u001b[39m.\u001b[39mdumps(v, separators \u001b[39m=\u001b[39m (\u001b[39m'\u001b[39m\u001b[39m,\u001b[39m\u001b[39m'\u001b[39m, \u001b[39m'\u001b[39m\u001b[39m:\u001b[39m\u001b[39m'\u001b[39m)) \u001b[39mfor\u001b[39;00m k, v \u001b[39min\u001b[39;00m params\u001b[39m.\u001b[39mitems()}, quote_via \u001b[39m=\u001b[39m urllib\u001b[39m.\u001b[39mparse\u001b[39m.\u001b[39mquote)\n\u001b[1;32m--> 727\u001b[0m r \u001b[39m=\u001b[39m \u001b[39mself\u001b[39;49m\u001b[39m.\u001b[39;49m_get(endpoint, params \u001b[39m=\u001b[39;49m params, headers \u001b[39m=\u001b[39;49m \u001b[39mself\u001b[39;49m\u001b[39m.\u001b[39;49m_apiHeaders, responseOkCallback \u001b[39m=\u001b[39;49m \u001b[39mself\u001b[39;49m\u001b[39m.\u001b[39;49m_check_api_response)\n\u001b[0;32m    728\u001b[0m \u001b[39mtry\u001b[39;00m:\n\u001b[0;32m    729\u001b[0m \tobj \u001b[39m=\u001b[39m r\u001b[39m.\u001b[39mjson()\n",
      "File \u001b[1;32mc:\\Python\\Python310\\lib\\site-packages\\snscrape\\base.py:251\u001b[0m, in \u001b[0;36mScraper._get\u001b[1;34m(self, *args, **kwargs)\u001b[0m\n\u001b[0;32m    250\u001b[0m \u001b[39mdef\u001b[39;00m \u001b[39m_get\u001b[39m(\u001b[39mself\u001b[39m, \u001b[39m*\u001b[39margs, \u001b[39m*\u001b[39m\u001b[39m*\u001b[39mkwargs):\n\u001b[1;32m--> 251\u001b[0m \t\u001b[39mreturn\u001b[39;00m \u001b[39mself\u001b[39m\u001b[39m.\u001b[39m_request(\u001b[39m'\u001b[39m\u001b[39mGET\u001b[39m\u001b[39m'\u001b[39m, \u001b[39m*\u001b[39margs, \u001b[39m*\u001b[39m\u001b[39m*\u001b[39mkwargs)\n",
      "File \u001b[1;32mc:\\Python\\Python310\\lib\\site-packages\\snscrape\\base.py:247\u001b[0m, in \u001b[0;36mScraper._request\u001b[1;34m(self, method, url, params, data, headers, timeout, responseOkCallback, allowRedirects, proxies)\u001b[0m\n\u001b[0;32m    245\u001b[0m \t_logger\u001b[39m.\u001b[39mfatal(msg)\n\u001b[0;32m    246\u001b[0m \t_logger\u001b[39m.\u001b[39mfatal(\u001b[39mf\u001b[39m\u001b[39m'\u001b[39m\u001b[39mErrors: \u001b[39m\u001b[39m{\u001b[39;00m\u001b[39m\"\u001b[39m\u001b[39m, \u001b[39m\u001b[39m\"\u001b[39m\u001b[39m.\u001b[39mjoin(errors)\u001b[39m}\u001b[39;00m\u001b[39m'\u001b[39m)\n\u001b[1;32m--> 247\u001b[0m \t\u001b[39mraise\u001b[39;00m ScraperException(msg)\n\u001b[0;32m    248\u001b[0m \u001b[39mraise\u001b[39;00m \u001b[39mRuntimeError\u001b[39;00m(\u001b[39m'\u001b[39m\u001b[39mReached unreachable code\u001b[39m\u001b[39m'\u001b[39m)\n",
      "\u001b[1;31mScraperException\u001b[0m: 4 requests to https://api.twitter.com/2/search/adaptive.json?include_profile_interstitial_type=1&include_blocking=1&include_blocked_by=1&include_followed_by=1&include_want_retweets=1&include_mute_edge=1&include_can_dm=1&include_can_media_tag=1&include_ext_has_nft_avatar=1&include_ext_is_blue_verified=1&include_ext_verified_type=1&skip_status=1&cards_platform=Web-12&include_cards=1&include_ext_alt_text=true&include_ext_limited_action_results=false&include_quote_count=true&include_reply_count=1&tweet_mode=extended&include_ext_collab_control=true&include_ext_views=true&include_entities=true&include_user_entities=true&include_ext_media_color=true&include_ext_media_availability=true&include_ext_sensitive_media_warning=true&include_ext_trusted_friends_metadata=true&send_error_codes=true&simple_quoted_tweet=true&q=%40juanwmv&tweet_search_mode=live&count=20&query_source=spelling_expansion_revert_click&pc=1&spelling_corrections=1&include_ext_edit_control=true&ext=mediaStats%2ChighlightedLabel%2ChasNftAvatar%2CvoiceInfo%2Cenrichments%2CsuperFollowMetadata%2CunmentionInfo%2CeditControl%2Ccollab_control%2Cvibe failed, giving up."
     ]
    }
   ],
   "source": [
    "tweets = get_tweet(\"@juanwmv\", 50)"
   ]
  },
  {
   "cell_type": "code",
   "execution_count": null,
   "metadata": {},
   "outputs": [],
   "source": [
    "for x in tweets"
   ]
  },
  {
   "cell_type": "code",
   "execution_count": 107,
   "metadata": {},
   "outputs": [
    {
     "name": "stdout",
     "output_type": "stream",
     "text": [
      "after removing emojis: [' ', 'https://t.co/4DjSmOcrN3', 'fuck restaurants that needs to scan a QR code to see the menu. the digital menu usually sucks ass too', 'https://t.co/3Jgn5gQebK', '@stoookeley https://t.co/0rcZgTxFNd', 'ada bekasi cuy', 'cara biar egk gila gmn yh', 'https://t.co/9gXLqsdxuU', 'glazing', 'god bless discover weekly for introducing me to this band https://t.co/BG9bgE9XH0', 'all my heroes are cornballs', 'why i got frank and thundercat with death grips and peggy on the same daily mix. https://t.co/nVlMtQHQgv', 'BRO FRANK ACTUALLY DONE? WTF', 'https://t.co/gpmGHj9SS4', '@oeeell iyh', '@stoookeley biar raw ', '@binus_fess BRO SAYING WHOLE LOTTA NOTHIN ', '@juanwmv ini setup papah kan?!', 'Portfolio. - update no. 954837 https://t.co/2XedSAVWGp', 'repasting the legion s7 is a battle in itself, but worth it in the end ', '@stoookeley yh https://t.co/s20he8Ibvq', '@juanwmv @stoookeley https://t.co/eUgMuDJjLK', '@juanwmv https://t.co/iZJ7XXP1Vu', '@stoookeley setup syh', '@juanwmv https://t.co/mq8D146O7D', '2015 https://t.co/GwxTGC3pIy', '@juanwmv Bro started his own saga', '@juanwmv He omnipresent?', 'BRO IS EVERYWHERE WTF', 'god this looks good ', 'this is painful to watch', 'https://t.co/3rthVMFscG', 'GOFOOD, SYH LAPAR https://t.co/oTsSkyEJ8Z', 'joji', 'Reaksi/perspektif publik menurut gw tolol dan bahaya bgt untuk kasus SA/r\"pe kedepannya, apalagi yg melibatkan minor.', '@binus_fess syh egk pp https://t.co/qGSYw1UujG', 'tenang bosen gabut bingung kanye west https://t.co/a5Qm5WqoBb', '@juanwmv @bocahtaikk Hi Kak maaf buat kamu gak nyaman. Utk keluhan kamu silakan DM ya. Tks -TN-', 'ong https://t.co/vwi57fqbHV', '@juanwmv https://t.co/wDqcRmzwsW', '@juanwmv @PT_Transjakarta Agree', 'Traffi is one of the best public transport application fr. bring it back @PT_Transjakarta', 'nahh, i can handle that https://t.co/Cb4Dikpbmu', '@bocahtaikk @KAI121 min kok st.jatibening ke st.binus belum ada yh', '@bocahtaikk @danawallet wduh min kok', '@juanwmv Hai Teman smartfren, jika ada yg bs minfren bantu seputar Smartfrennya, silakan infokan via DM nya ya kak :) . Terima kasih - Bia', '@juanwmv @smartfrencare https://t.co/DzbyKU9F3q', '@bocahtaikk @smartfrencare min', \"trying out https://t.co/8g1onpjsNQ. shit let's u run some of AWS services locally  https://t.co/6POBTYxekw\", \"took the time and finally listened to smithereens from joji. holy, it's mid  die for you and night rider fire tho\", \"haven't found the time to continue my personal projects cus of university. now is probably the time https://t.co/Yh8ZXVnhDE\", 'https://t.co/ziPAqxOFcf', 'https://t.co/gHCPBhutC9']\n",
      "after removing urls: [' ', 'fuck restaurants that needs to scan a QR code to see the menu. the digital menu usually sucks ass too', 'ada bekasi cuy', 'cara biar egk gila gmn yh', 'glazing', 'all my heroes are cornballs', 'BRO FRANK ACTUALLY DONE? WTF', '@oeeell iyh', '@stoookeley biar raw ', '@binus_fess BRO SAYING WHOLE LOTTA NOTHIN ', '@juanwmv ini setup papah kan?!', 'repasting the legion s7 is a battle in itself, but worth it in the end ', '@stoookeley setup syh', '@juanwmv Bro started his own saga', '@juanwmv He omnipresent?', 'BRO IS EVERYWHERE WTF', 'god this looks good ', 'this is painful to watch', 'joji', 'Reaksi/perspektif publik menurut gw tolol dan bahaya bgt untuk kasus SA/r\"pe kedepannya, apalagi yg melibatkan minor.', '@juanwmv @bocahtaikk Hi Kak maaf buat kamu gak nyaman. Utk keluhan kamu silakan DM ya. Tks -TN-', '@juanwmv @PT_Transjakarta Agree', 'Traffi is one of the best public transport application fr. bring it back @PT_Transjakarta', '@bocahtaikk @KAI121 min kok st.jatibening ke st.binus belum ada yh', '@bocahtaikk @danawallet wduh min kok', '@juanwmv Hai Teman smartfren, jika ada yg bs minfren bantu seputar Smartfrennya, silakan infokan via DM nya ya kak :) . Terima kasih - Bia', '@bocahtaikk @smartfrencare min', \"took the time and finally listened to smithereens from joji. holy, it's mid  die for you and night rider fire tho\"]\n",
      "after removing stopwords: ['', 'fuck restaurants needs scan QR code see menu . digital menu usually sucks ass', 'ada bekasi cuy', 'cara biar egk gila gmn yh', 'glazing', 'heroes cornballs', 'BRO FRANK ACTUALLY DONE ? WTF', '@ oeeell iyh', '@ stoookeley biar raw', '@ binus_fess BRO SAYING WHOLE LOTTA NOTHIN', '@ juanwmv ini setup papah kan ? !', 'repasting legion s7 battle , worth end', '@ stoookeley setup syh', '@ juanwmv Bro started saga', '@ juanwmv omnipresent ?', 'BRO EVERYWHERE WTF', 'god looks good', 'painful watch', 'joji', \"Reaksi/perspektif publik menurut gw tolol dan bahaya bgt untuk kasus SA/r '' pe kedepannya , apalagi yg melibatkan minor .\", '@ juanwmv @ bocahtaikk Hi Kak maaf buat kamu gak nyaman . Utk keluhan kamu silakan DM ya . Tks -TN-', '@ juanwmv @ PT_Transjakarta Agree', 'Traffi one best public transport application fr . bring back @ PT_Transjakarta', '@ bocahtaikk @ KAI121 min kok st.jatibening ke st.binus belum ada yh', '@ bocahtaikk @ danawallet wduh min kok', '@ juanwmv Hai Teman smartfren , jika ada yg bs minfren bantu seputar Smartfrennya , silakan infokan via DM nya ya kak : ) . Terima kasih - Bia', '@ bocahtaikk @ smartfrencare min', \"took time finally listened smithereens joji . holy , 's mid die night rider fire tho\"]\n",
      "['', 'fuck restaurants needs scan QR code see menu . digital menu usually sucks ass', 'ada bekasi cuy', 'cara biar egk gila gmn yh', 'glazing', 'heroes cornballs', 'BRO FRANK ACTUALLY DONE ? WTF', '@ oeeell iyh', '@ stoookeley biar raw', '@ binus_fess BRO SAYING WHOLE LOTTA NOTHIN', '@ juanwmv ini setup papah kan ? !', 'repasting legion s7 battle , worth end', '@ stoookeley setup syh', '@ juanwmv Bro started saga', '@ juanwmv omnipresent ?', 'BRO EVERYWHERE WTF', 'god looks good', 'painful watch', 'joji', \"Reaksi/perspektif publik menurut gw tolol dan bahaya bgt untuk kasus SA/r '' pe kedepannya , apalagi yg melibatkan minor .\", '@ juanwmv @ bocahtaikk Hi Kak maaf buat kamu gak nyaman . Utk keluhan kamu silakan DM ya . Tks -TN-', '@ juanwmv @ PT_Transjakarta Agree', 'Traffi one best public transport application fr . bring back @ PT_Transjakarta', '@ bocahtaikk @ KAI121 min kok st.jatibening ke st.binus belum ada yh', '@ bocahtaikk @ danawallet wduh min kok', '@ juanwmv Hai Teman smartfren , jika ada yg bs minfren bantu seputar Smartfrennya , silakan infokan via DM nya ya kak : ) . Terima kasih - Bia', '@ bocahtaikk @ smartfrencare min', \"took time finally listened smithereens joji . holy , 's mid die night rider fire tho\"]\n"
     ]
    }
   ],
   "source": [
    "tweets = remove_noise(tweets)\n",
    "tweets = clean(tweets)\n",
    "print(tweets)"
   ]
  },
  {
   "cell_type": "code",
   "execution_count": 108,
   "metadata": {},
   "outputs": [
    {
     "data": {
      "text/html": [
       "<div>\n",
       "<style scoped>\n",
       "    .dataframe tbody tr th:only-of-type {\n",
       "        vertical-align: middle;\n",
       "    }\n",
       "\n",
       "    .dataframe tbody tr th {\n",
       "        vertical-align: top;\n",
       "    }\n",
       "\n",
       "    .dataframe thead th {\n",
       "        text-align: right;\n",
       "    }\n",
       "</style>\n",
       "<table border=\"1\" class=\"dataframe\">\n",
       "  <thead>\n",
       "    <tr style=\"text-align: right;\">\n",
       "      <th></th>\n",
       "      <th>content</th>\n",
       "    </tr>\n",
       "  </thead>\n",
       "  <tbody>\n",
       "    <tr>\n",
       "      <th>0</th>\n",
       "      <td>fuck restaurants needs scan QR code see menu ....</td>\n",
       "    </tr>\n",
       "    <tr>\n",
       "      <th>1</th>\n",
       "      <td>ada bekasi cuy</td>\n",
       "    </tr>\n",
       "    <tr>\n",
       "      <th>2</th>\n",
       "      <td>cara biar egk gila gmn yh</td>\n",
       "    </tr>\n",
       "    <tr>\n",
       "      <th>3</th>\n",
       "      <td>glazing</td>\n",
       "    </tr>\n",
       "    <tr>\n",
       "      <th>4</th>\n",
       "      <td>heroes cornballs</td>\n",
       "    </tr>\n",
       "    <tr>\n",
       "      <th>5</th>\n",
       "      <td>BRO FRANK ACTUALLY DONE ? WTF</td>\n",
       "    </tr>\n",
       "    <tr>\n",
       "      <th>6</th>\n",
       "      <td>@ oeeell iyh</td>\n",
       "    </tr>\n",
       "    <tr>\n",
       "      <th>7</th>\n",
       "      <td>@ stoookeley biar raw</td>\n",
       "    </tr>\n",
       "    <tr>\n",
       "      <th>8</th>\n",
       "      <td>@ binus_fess BRO SAYING WHOLE LOTTA NOTHIN</td>\n",
       "    </tr>\n",
       "    <tr>\n",
       "      <th>9</th>\n",
       "      <td>@ juanwmv ini setup papah kan ? !</td>\n",
       "    </tr>\n",
       "    <tr>\n",
       "      <th>10</th>\n",
       "      <td>repasting legion s7 battle , worth end</td>\n",
       "    </tr>\n",
       "    <tr>\n",
       "      <th>11</th>\n",
       "      <td>@ stoookeley setup syh</td>\n",
       "    </tr>\n",
       "    <tr>\n",
       "      <th>12</th>\n",
       "      <td>@ juanwmv Bro started saga</td>\n",
       "    </tr>\n",
       "    <tr>\n",
       "      <th>13</th>\n",
       "      <td>@ juanwmv omnipresent ?</td>\n",
       "    </tr>\n",
       "    <tr>\n",
       "      <th>14</th>\n",
       "      <td>BRO EVERYWHERE WTF</td>\n",
       "    </tr>\n",
       "    <tr>\n",
       "      <th>15</th>\n",
       "      <td>god looks good</td>\n",
       "    </tr>\n",
       "    <tr>\n",
       "      <th>16</th>\n",
       "      <td>painful watch</td>\n",
       "    </tr>\n",
       "    <tr>\n",
       "      <th>17</th>\n",
       "      <td>joji</td>\n",
       "    </tr>\n",
       "    <tr>\n",
       "      <th>18</th>\n",
       "      <td>Reaksi/perspektif publik menurut gw tolol dan ...</td>\n",
       "    </tr>\n",
       "    <tr>\n",
       "      <th>19</th>\n",
       "      <td>@ juanwmv @ bocahtaikk Hi Kak maaf buat kamu g...</td>\n",
       "    </tr>\n",
       "    <tr>\n",
       "      <th>20</th>\n",
       "      <td>@ juanwmv @ PT_Transjakarta Agree</td>\n",
       "    </tr>\n",
       "    <tr>\n",
       "      <th>21</th>\n",
       "      <td>Traffi one best public transport application f...</td>\n",
       "    </tr>\n",
       "    <tr>\n",
       "      <th>22</th>\n",
       "      <td>@ bocahtaikk @ KAI121 min kok st.jatibening ke...</td>\n",
       "    </tr>\n",
       "    <tr>\n",
       "      <th>23</th>\n",
       "      <td>@ bocahtaikk @ danawallet wduh min kok</td>\n",
       "    </tr>\n",
       "    <tr>\n",
       "      <th>24</th>\n",
       "      <td>@ juanwmv Hai Teman smartfren , jika ada yg bs...</td>\n",
       "    </tr>\n",
       "    <tr>\n",
       "      <th>25</th>\n",
       "      <td>@ bocahtaikk @ smartfrencare min</td>\n",
       "    </tr>\n",
       "    <tr>\n",
       "      <th>26</th>\n",
       "      <td>took time finally listened smithereens joji . ...</td>\n",
       "    </tr>\n",
       "  </tbody>\n",
       "</table>\n",
       "</div>"
      ],
      "text/plain": [
       "                                              content\n",
       "0   fuck restaurants needs scan QR code see menu ....\n",
       "1                                      ada bekasi cuy\n",
       "2                           cara biar egk gila gmn yh\n",
       "3                                             glazing\n",
       "4                                    heroes cornballs\n",
       "5                       BRO FRANK ACTUALLY DONE ? WTF\n",
       "6                                        @ oeeell iyh\n",
       "7                               @ stoookeley biar raw\n",
       "8          @ binus_fess BRO SAYING WHOLE LOTTA NOTHIN\n",
       "9                   @ juanwmv ini setup papah kan ? !\n",
       "10             repasting legion s7 battle , worth end\n",
       "11                             @ stoookeley setup syh\n",
       "12                         @ juanwmv Bro started saga\n",
       "13                            @ juanwmv omnipresent ?\n",
       "14                                 BRO EVERYWHERE WTF\n",
       "15                                     god looks good\n",
       "16                                      painful watch\n",
       "17                                               joji\n",
       "18  Reaksi/perspektif publik menurut gw tolol dan ...\n",
       "19  @ juanwmv @ bocahtaikk Hi Kak maaf buat kamu g...\n",
       "20                  @ juanwmv @ PT_Transjakarta Agree\n",
       "21  Traffi one best public transport application f...\n",
       "22  @ bocahtaikk @ KAI121 min kok st.jatibening ke...\n",
       "23             @ bocahtaikk @ danawallet wduh min kok\n",
       "24  @ juanwmv Hai Teman smartfren , jika ada yg bs...\n",
       "25                   @ bocahtaikk @ smartfrencare min\n",
       "26  took time finally listened smithereens joji . ..."
      ]
     },
     "execution_count": 108,
     "metadata": {},
     "output_type": "execute_result"
    }
   ],
   "source": [
    "# this will fram|e the data and save it in excel\n",
    "tweet = pd.DataFrame(tweets, columns=[\"content\"])\n",
    "tweet\n",
    "# tweet.to_excel(r\"C:/Users/HP/Downloads/tweetJuan.xlsx\", index = False)"
   ]
  },
  {
   "cell_type": "code",
   "execution_count": null,
   "metadata": {},
   "outputs": [],
   "source": []
  }
 ],
 "metadata": {
  "kernelspec": {
   "display_name": "Python 3",
   "language": "python",
   "name": "python3"
  },
  "language_info": {
   "codemirror_mode": {
    "name": "ipython",
    "version": 3
   },
   "file_extension": ".py",
   "mimetype": "text/x-python",
   "name": "python",
   "nbconvert_exporter": "python",
   "pygments_lexer": "ipython3",
   "version": "3.10.1"
  },
  "orig_nbformat": 4
 },
 "nbformat": 4,
 "nbformat_minor": 2
}

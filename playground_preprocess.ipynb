{
 "cells": [
  {
   "cell_type": "code",
   "execution_count": 41,
   "metadata": {},
   "outputs": [],
   "source": [
    "import re\n",
    "import nltk\n",
    "import pandas as pd\n",
    "from nltk.corpus import stopwords"
   ]
  },
  {
   "attachments": {},
   "cell_type": "markdown",
   "metadata": {},
   "source": [
    "### Twitter user detection (@xxx) test"
   ]
  },
  {
   "cell_type": "code",
   "execution_count": 14,
   "metadata": {},
   "outputs": [
    {
     "name": "stdout",
     "output_type": "stream",
     "text": [
      "this @hotstr bitch is bullying the hell out of @.ki.is23\n",
      "@332df you want to help @_7sad\n",
      "this @ is dumb things\n"
     ]
    }
   ],
   "source": [
    "# sample text\n",
    "sample_text = [\n",
    "    \"this @hotstr bitch is bullying the hell out of @.ki.is23\",\n",
    "    \"@332df you want to help @_7sad\",\n",
    "    \"this @ is dumb things\",\n",
    "]\n",
    "\n",
    "# regex to detect the username (@xxx)\n",
    "regex = r\"@([^ ]+)\"\n",
    "\n",
    "# before preprocess\n",
    "for x in sample_text:\n",
    "    print(x)"
   ]
  },
  {
   "cell_type": "code",
   "execution_count": 15,
   "metadata": {},
   "outputs": [
    {
     "name": "stdout",
     "output_type": "stream",
     "text": [
      "this user bitch is bullying the hell out of user\n",
      "user you want to help user\n",
      "this @ is dumb things\n"
     ]
    }
   ],
   "source": [
    "# execute the process\n",
    "for idx, string in enumerate(sample_text):\n",
    "    sample_text[idx] = re.sub(regex, \"user\", string)\n",
    "    \n",
    "# after preprocess\n",
    "for x in sample_text:\n",
    "    print(x)"
   ]
  },
  {
   "attachments": {},
   "cell_type": "markdown",
   "metadata": {},
   "source": [
    "### Emoji remove test\n",
    "2 cases:\n",
    "- if the emoji is pure emoji\n",
    "- the emoji & ect is still on html entities like &#128584; or &#8217;"
   ]
  },
  {
   "cell_type": "code",
   "execution_count": 3,
   "metadata": {},
   "outputs": [],
   "source": [
    "import demoji # demoji is used to remove pure emojis\n",
    "import html # html is used to decode html entities"
   ]
  },
  {
   "attachments": {},
   "cell_type": "markdown",
   "metadata": {},
   "source": [
    "Case 1:\n",
    "\n",
    "if the emoji is pure emoji"
   ]
  },
  {
   "cell_type": "code",
   "execution_count": 17,
   "metadata": {},
   "outputs": [
    {
     "name": "stdout",
     "output_type": "stream",
     "text": [
      "this @hotstr bitch is bullying some 🏳️‍🌈 kids 💀\n",
      "🎉🎉🎉 happy birthday @_7sad\n",
      "why my life is sad🥹, maybe i should rethink my decision🤔\n"
     ]
    }
   ],
   "source": [
    "# this is when the emoji is pure emoji\n",
    "sample_text = [\n",
    "    \"this @hotstr bitch is bullying some 🏳️‍🌈 kids 💀\",\n",
    "    \"🎉🎉🎉 happy birthday @_7sad\",\n",
    "    \"why my life is sad🥹, maybe i should rethink my decision🤔\",\n",
    "]\n",
    "\n",
    "# before preprocess\n",
    "for x in sample_text:\n",
    "    print(x)"
   ]
  },
  {
   "cell_type": "code",
   "execution_count": 18,
   "metadata": {},
   "outputs": [
    {
     "name": "stdout",
     "output_type": "stream",
     "text": [
      "this @hotstr bitch is bullying some  kids \n",
      " happy birthday @_7sad\n",
      "why my life is sad🥹, maybe i should rethink my decision\n"
     ]
    }
   ],
   "source": [
    "# execute the emoji remover\n",
    "for idx, text in enumerate(sample_text):\n",
    "    sample_text[idx] = demoji.replace(text, \"\")\n",
    "\n",
    "# after emoji is removed\n",
    "for x in sample_text:\n",
    "    print(x)"
   ]
  },
  {
   "attachments": {},
   "cell_type": "markdown",
   "metadata": {},
   "source": [
    "Case 2:\n",
    "\n",
    "The emoji is in the form of html entities, so we must decode it then preprocess it accordingly"
   ]
  },
  {
   "cell_type": "code",
   "execution_count": 3,
   "metadata": {},
   "outputs": [
    {
     "name": "stdout",
     "output_type": "stream",
     "text": [
      "got ya bitch tip toeing on my hardwood floors \"\" 😂 http://t.co/cOU2WQ5L4q\"\n"
     ]
    }
   ],
   "source": [
    "entities_text = 'got ya bitch tip toeing on my hardwood floors \"\" &#128514; http://t.co/cOU2WQ5L4q\"'\n",
    "cleaned_entities_text = html.unescape(entities_text)\n",
    "print(cleaned_entities_text)\n",
    "\n",
    "# after this you can use the demoji library to remove the emojis."
   ]
  },
  {
   "attachments": {},
   "cell_type": "markdown",
   "metadata": {},
   "source": [
    "### Url deletion test"
   ]
  },
  {
   "cell_type": "code",
   "execution_count": 37,
   "metadata": {},
   "outputs": [
    {
     "name": "stdout",
     "output_type": "stream",
     "text": [
      "this is some sketchy links tokopedia.com/cart idk if safe or n lol\n",
      "http://t.co/cOU2WQ5L4q, this is some good shit\n",
      "hi babe join my class in bit.ly/kemanggisansus99\n"
     ]
    }
   ],
   "source": [
    "text = \"this a good resource https://www.google.com/search?client=firefox-b-d&q=k+means+clusterin, and i love it\"\n",
    "sample_text = [\n",
    "    \"this is some sketchy links tokopedia.com/cart idk if safe or n lol\",\n",
    "    \"http://t.co/cOU2WQ5L4q, this is some good shit\",\n",
    "    \"hi babe join my class in bit.ly/kemanggisansus99\"\n",
    "]\n",
    "url_regex = r\"(?i)\\b((?:https?://|www\\d{0,3}[.]|[a-z0-9.\\-]+[.][a-z]{2,4}/)(?:[^\\s()<>]+|\\(([^\\s()<>]+|(\\([^\\s()<>]+\\)))*\\))+(?:\\(([^\\s()<>]+|(\\([^\\s()<>]+\\)))*\\)|[^\\s`!()\\[\\]{};:'\\\".,<>?«»“”‘’]))\"\n",
    "\n",
    "## single test\n",
    "# text = re.sub(url_regex, '', text)\n",
    "# print(text)\n",
    "\n",
    "# before preprocess\n",
    "for x in sample_text:\n",
    "    print(x)"
   ]
  },
  {
   "cell_type": "code",
   "execution_count": 38,
   "metadata": {},
   "outputs": [
    {
     "name": "stdout",
     "output_type": "stream",
     "text": [
      "this is some sketchy links  idk if safe or n lol\n",
      ", this is some good shit\n",
      "hi babe join my class in \n"
     ]
    }
   ],
   "source": [
    "for idx, text in enumerate(sample_text):\n",
    "    sample_text[idx] = re.sub(url_regex, '', text)\n",
    "\n",
    "# after preprocess\n",
    "for x in sample_text:\n",
    "    print(x)"
   ]
  },
  {
   "attachments": {},
   "cell_type": "markdown",
   "metadata": {},
   "source": [
    "### Removing the trailing noises"
   ]
  },
  {
   "cell_type": "code",
   "execution_count": 29,
   "metadata": {},
   "outputs": [],
   "source": [
    "sample_text = [\n",
    "    \"...Son of a bitch took my Tic Tacs.\",\n",
    "    '\"\"\"..All I wanna do is get money and fuck model bitches!\"\" - Russell Simmons\"',\n",
    "]\n",
    "\n",
    "## if you want more \n",
    "# sample2 = [\n",
    "#     'got ya bitch tip toeing on my hardwood floors \"\"  http://t.co/cOU2WQ5L4q\"',\n",
    "#     'pussy is a powerful drug @juanwmv   #HappyHumpDay http://t.co/R8jsymiB5b',\n",
    "#     '...Son of a bitch took my Tic Tacs.',\n",
    "#     '\"@2015seniorprobs: I probably wouldn’t mind school as much if we didn’t have to deal with bitch ass teachers\"\". Retweet',\n",
    "#     '\"\"\"..All I wanna do is get money and fuck model bitches!\"\" - Russell Simmons\"',\n",
    "#     \"@AutoWorId: Hennessey Venom GT  http://t.co/i8eGMnKaJ9 that's one sexy bitch\",    \n",
    "# ]"
   ]
  },
  {
   "cell_type": "code",
   "execution_count": 30,
   "metadata": {},
   "outputs": [
    {
     "name": "stdout",
     "output_type": "stream",
     "text": [
      ".Son of a bitch took my Tic Tacs.\n",
      "All I wanna do is get money and fuck model bitches! - Russell Simmons\n"
     ]
    }
   ],
   "source": [
    "for x in sample_text:\n",
    "    ans = x.replace('\"', '')\n",
    "    ans = ans.replace(\"'\", '')\n",
    "    ans = ans.replace(\"..\", '')\n",
    "    print(ans)\n",
    "    "
   ]
  },
  {
   "attachments": {},
   "cell_type": "markdown",
   "metadata": {},
   "source": [
    "### Testing all\n",
    "1. change the user tags\n",
    "2. html entity changing + remove emoji\n",
    "3. remove urls\n",
    "4. remove stopwords\n",
    "5. remove trailing\n",
    "6. padding and tokenizing"
   ]
  },
  {
   "cell_type": "code",
   "execution_count": 39,
   "metadata": {},
   "outputs": [
    {
     "name": "stdout",
     "output_type": "stream",
     "text": [
      "\"\"\"&#128514;&#128514;&#128514;&#128514;&#128514;&#128514;&#128514;&#128514;&#128514;&#128514;\n",
      "pussy is a powerful drug @juanwmv  &#128517; #HappyHumpDay http://t.co/R8jsymiB5b\n",
      "\"\"\"@Almightywayne__: @JetsAndASwisher @Gook____ bitch fuck u http://t.co/pXmGA68NC1\"\" maybe youll get better. Just http://t.co/TPreVwfq0S\"\"\n",
      "\"@2015seniorprobs: I probably wouldn&#8217;t mind school as much if we didn&#8217;t have to deal with bitch ass teachers\"\". Retweet\n",
      "\"\"\"..All I wanna do is get money and fuck model bitches!\"\" - Russell Simmons\"\n",
      "@BestProAdvice: The facts on tattoos...tattoo http://t.co/ZwnbhpDZ8e he's a pussy with not tattooing them nipples\n"
     ]
    }
   ],
   "source": [
    "test_list = [\n",
    "    '\"\"\"&#128514;&#128514;&#128514;&#128514;&#128514;&#128514;&#128514;&#128514;&#128514;&#128514;',\n",
    "    \"pussy is a powerful drug @juanwmv \"\" &#128517; #HappyHumpDay http://t.co/R8jsymiB5b\",\n",
    "    '\"\"\"@Almightywayne__: @JetsAndASwisher @Gook____ bitch fuck u http://t.co/pXmGA68NC1\"\" maybe youll get better. Just http://t.co/TPreVwfq0S\"\"',\n",
    "    '\"@2015seniorprobs: I probably wouldn&#8217;t mind school as much if we didn&#8217;t have to deal with bitch ass teachers\"\". Retweet',\n",
    "    '\"\"\"..All I wanna do is get money and fuck model bitches!\"\" - Russell Simmons\"',\n",
    "    \"@BestProAdvice: The facts on tattoos...tattoo http://t.co/ZwnbhpDZ8e\"\" he's a pussy with not tattooing them nipples\",\n",
    "]\n",
    "\n",
    "# before\n",
    "for x in test_list:\n",
    "    print(x)\n",
    "# to contain the clean shit\n",
    "clean = []"
   ]
  },
  {
   "cell_type": "code",
   "execution_count": 42,
   "metadata": {},
   "outputs": [],
   "source": [
    "stop_words = set(stopwords.words('english'))\n",
    "\n",
    "def remove_emojis(raw_text):\n",
    "    text = html.unescape(raw_text)\n",
    "    text = demoji.replace(text, '')\n",
    "    return text\n",
    "\n",
    "def remove_stopwords(raw_text):\n",
    "    tokenize = nltk.word_tokenize(raw_text)\n",
    "    text = [word for word in tokenize if not word.lower() in stop_words]\n",
    "    text = \" \".join(text)\n",
    "\n",
    "    return text\n",
    "\n",
    "def remove_url(raw_text):\n",
    "    url_regex = r\"(?i)\\b((?:https?://|www\\d{0,3}[.]|[a-z0-9.\\-]+[.][a-z]{2,4}/)(?:[^\\s()<>]+|\\(([^\\s()<>]+|(\\([^\\s()<>]+\\)))*\\))+(?:\\(([^\\s()<>]+|(\\([^\\s()<>]+\\)))*\\)|[^\\s`!()\\[\\]{};:'\\\".,<>?«»“”‘’]))\"\n",
    "    text = re.sub(url_regex, '', raw_text)\n",
    "\n",
    "    return text\n",
    "\n",
    "def change_user(raw_text):\n",
    "    regex = r\"@([^ ]+)\"\n",
    "    text = re.sub(regex, \"user\", raw_text)\n",
    "\n",
    "    return text\n",
    "\n",
    "def remove_trailing_noise(raw_text):\n",
    "    text = raw_text.replace('\"', '')\n",
    "    text = text.replace(\"'\", '')\n",
    "    text = text.replace(\"..\", '')\n",
    "\n",
    "    return text\n",
    "\n",
    "def remove_noise(datas):\n",
    "    clean = []\n",
    "    # change the @xxx into \"user\"\n",
    "    clean = [change_user(text) for text in datas]\n",
    "    # remove emojis (specifically unicode emojis)\n",
    "    clean = [remove_emojis(text) for text in clean]\n",
    "    # remove urls\n",
    "    clean = [remove_url(text) for text in clean]\n",
    "    # remove stopwords\n",
    "    clean = [remove_stopwords(text) for text in clean]\n",
    "    # remove trailing stuff\n",
    "    clean = [remove_trailing_noise(text) for text in clean]\n",
    "    return clean\n",
    "        "
   ]
  },
  {
   "cell_type": "code",
   "execution_count": null,
   "metadata": {},
   "outputs": [],
   "source": [
    "good_tweet = remove_noise"
   ]
  }
 ],
 "metadata": {
  "kernelspec": {
   "display_name": "Python 3",
   "language": "python",
   "name": "python3"
  },
  "language_info": {
   "codemirror_mode": {
    "name": "ipython",
    "version": 3
   },
   "file_extension": ".py",
   "mimetype": "text/x-python",
   "name": "python",
   "nbconvert_exporter": "python",
   "pygments_lexer": "ipython3",
   "version": "3.10.1"
  },
  "orig_nbformat": 4
 },
 "nbformat": 4,
 "nbformat_minor": 2
}

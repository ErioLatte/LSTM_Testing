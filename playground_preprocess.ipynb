{
 "cells": [
  {
   "cell_type": "code",
   "execution_count": 1,
   "metadata": {},
   "outputs": [],
   "source": [
    "import re\n",
    "import nltk\n",
    "import pandas as pd"
   ]
  },
  {
   "attachments": {},
   "cell_type": "markdown",
   "metadata": {},
   "source": [
    "### Twitter user detection (@xxx) test"
   ]
  },
  {
   "cell_type": "code",
   "execution_count": 21,
   "metadata": {},
   "outputs": [],
   "source": [
    "# sample text\n",
    "text = \"this @hotstr bitch is bullying the hell out of @.ki.is23\"\n",
    "text2 = \"@332df you want to help @_7sad\"\n",
    "text3 = \"this @ is dumb things\"\n",
    "\n",
    "regex = r\"@([^ ]+)\"\n",
    "# text = re.compile(text)\n",
    "# text = re.sub(regex, \"user\", text3)\n",
    "# print(text)"
   ]
  },
  {
   "cell_type": "code",
   "execution_count": 22,
   "metadata": {},
   "outputs": [
    {
     "name": "stdout",
     "output_type": "stream",
     "text": [
      "['this @hotstr bitch is bullying the hell out of @.ki.is23', '@332df you want to help @_7sad', 'this @ is dumb things']\n"
     ]
    }
   ],
   "source": [
    "datas = list()\n",
    "datas.append(text)\n",
    "datas.append(text2)\n",
    "datas.append(text3)\n",
    "\n",
    "print(datas)"
   ]
  },
  {
   "cell_type": "code",
   "execution_count": 23,
   "metadata": {},
   "outputs": [
    {
     "name": "stdout",
     "output_type": "stream",
     "text": [
      "['this @hotstr bitch is bullying the hell out of @.ki.is23', '@332df you want to help @_7sad', 'this @ is dumb things']\n",
      "['this user bitch is bullying the hell out of user', 'user you want to help user', 'this @ is dumb things']\n"
     ]
    }
   ],
   "source": [
    "def remove_shit(data):\n",
    "    for idx, string in enumerate(data):\n",
    "        data[idx] = re.sub(regex, \"user\", string)\n",
    "    return data\n",
    "\n",
    "print(datas)\n",
    "datas = remove_shit(datas)\n",
    "print(datas)"
   ]
  },
  {
   "attachments": {},
   "cell_type": "markdown",
   "metadata": {},
   "source": [
    "### Emoji remove test\n",
    "2 cases:\n",
    "- if the emoji is pure emoji\n",
    "- the emoji & ect is still on html entities like &#128584; or &#8217;"
   ]
  },
  {
   "cell_type": "code",
   "execution_count": 1,
   "metadata": {},
   "outputs": [],
   "source": [
    "import demoji\n",
    "import html"
   ]
  },
  {
   "cell_type": "code",
   "execution_count": 2,
   "metadata": {},
   "outputs": [
    {
     "name": "stdout",
     "output_type": "stream",
     "text": [
      "this @hotstr bitch is bullying some kids emoji\n"
     ]
    }
   ],
   "source": [
    "# this is when the emoji is pure emoji\n",
    "text = \"this @hotstr bitch is bullying some kids 💀\"\n",
    "text2 = \"🎉🎉🎉 happy birthday @_7sad\"\n",
    "text3 = \"why my life is sad🥹, maybe i should rethink my decision🤔\"\n",
    "\n",
    "ans = demoji.replace(text, \"(emoji)\")\n",
    "print(ans)"
   ]
  },
  {
   "cell_type": "code",
   "execution_count": 3,
   "metadata": {},
   "outputs": [
    {
     "name": "stdout",
     "output_type": "stream",
     "text": [
      "got ya bitch tip toeing on my hardwood floors \"\" 😂 http://t.co/cOU2WQ5L4q\"\n"
     ]
    }
   ],
   "source": [
    "entities_text = 'got ya bitch tip toeing on my hardwood floors \"\" &#128514; http://t.co/cOU2WQ5L4q\"'\n",
    "cleaned_entities_text = html.unescape(entities_text)\n",
    "print(cleaned_entities_text)\n",
    "\n",
    "# after this you can use the demoji library to remove the emojis."
   ]
  },
  {
   "attachments": {},
   "cell_type": "markdown",
   "metadata": {},
   "source": [
    "### Url detection test"
   ]
  },
  {
   "attachments": {},
   "cell_type": "markdown",
   "metadata": {},
   "source": [
    "text = \"\"\n",
    "regex = r\"(?i)\\b((?:https?://|www\\d{0,3}[.]|[a-z0-9.\\-]+[.][a-z]{2,4}/)(?:[^\\s()<>]+|\\(([^\\s()<>]+|(\\([^\\s()<>]+\\)))*\\))+(?:\\(([^\\s()<>]+|(\\([^\\s()<>]+\\)))*\\)|[^\\s`!()\\[\\]{};:'\\\".,<>?«»“”‘’]))\""
   ]
  },
  {
   "attachments": {},
   "cell_type": "markdown",
   "metadata": {},
   "source": []
  },
  {
   "attachments": {},
   "cell_type": "markdown",
   "metadata": {},
   "source": [
    "### Testing all"
   ]
  },
  {
   "cell_type": "code",
   "execution_count": null,
   "metadata": {},
   "outputs": [],
   "source": [
    "test_list = [\n",
    "    'got ya bitch tip toeing on my hardwood floors \"\" &#128514; http://t.co/cOU2WQ5L4q\"',\n",
    "    \"pussy is a powerful drug @juanwmv \"\" &#128517; #HappyHumpDay http://t.co/R8jsymiB5b\",\n",
    "    \"...Son of a bitch took my Tic Tacs.\",\n",
    "    '\"@2015seniorprobs: I probably wouldn&#8217;t mind school as much if we didn&#8217;t have to deal with bitch ass teachers\"\". Retweet',\n",
    "    '\"\"\"..All I wanna do is get money and fuck model bitches!\"\" - Russell Simmons\"',\n",
    "    \"@AutoWorId: Hennessey Venom GT &#128584; http://t.co/i8eGMnKaJ9\"\" that's one sexy bitch\"\n",
    "]"
   ]
  }
 ],
 "metadata": {
  "kernelspec": {
   "display_name": "Python 3",
   "language": "python",
   "name": "python3"
  },
  "language_info": {
   "codemirror_mode": {
    "name": "ipython",
    "version": 3
   },
   "file_extension": ".py",
   "mimetype": "text/x-python",
   "name": "python",
   "nbconvert_exporter": "python",
   "pygments_lexer": "ipython3",
   "version": "3.10.1"
  },
  "orig_nbformat": 4
 },
 "nbformat": 4,
 "nbformat_minor": 2
}
